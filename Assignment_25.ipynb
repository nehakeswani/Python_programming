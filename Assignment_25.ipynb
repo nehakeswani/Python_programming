{
 "cells": [
  {
   "cell_type": "code",
   "execution_count": null,
   "id": "e7afeedd",
   "metadata": {},
   "outputs": [],
   "source": [
    "'''Question1\n",
    "Create a function that takes three integer arguments (a, b, c) and returns the amount of\n",
    "integers which are of equal value.'''"
   ]
  },
  {
   "cell_type": "code",
   "execution_count": 12,
   "id": "fef0be18",
   "metadata": {},
   "outputs": [
    {
     "name": "stdout",
     "output_type": "stream",
     "text": [
      "Enter numbers : 2 2 3\n",
      "2\n"
     ]
    }
   ],
   "source": [
    "def equal(a,b,c):\n",
    "    num = set((a,b,c))\n",
    "    n = len(num)\n",
    "    i = (3 if(n==1) else 2 if(n==2) else 0)\n",
    "    return i\n",
    "\n",
    "a,b,c = [int(i) for i in input(\"Enter numbers : \").split(\" \")]\n",
    "print(equal(a,b,c))"
   ]
  },
  {
   "cell_type": "code",
   "execution_count": null,
   "id": "df955b40",
   "metadata": {},
   "outputs": [],
   "source": [
    "'''Question2\n",
    "Write a function that converts a dictionary into a list of keys-values tuples.'''"
   ]
  },
  {
   "cell_type": "code",
   "execution_count": 17,
   "id": "472a0f0d",
   "metadata": {},
   "outputs": [
    {
     "name": "stdout",
     "output_type": "stream",
     "text": [
      "Enter number of dictionary elements : 3\n",
      "Enter key value pair : d 4\n",
      "Enter key value pair : g 5\n",
      "Enter key value pair : f 4\n",
      "[('d', '4'), ('g', '5'), ('f', '4')]\n"
     ]
    }
   ],
   "source": [
    "def input_dict(n):\n",
    "    dict_notlist = dict()\n",
    "    for _ in range(n):\n",
    "        k,v = [i for i in input(\"Enter key value pair : \").split()]\n",
    "        dict_notlist[k]=v\n",
    "    return dict_notlist\n",
    "\n",
    "def dict_to_list(dict_notlist):\n",
    "    lst = []\n",
    "    for i in dict_notlist.keys():\n",
    "        tup = tuple()\n",
    "        tup+=(i,dict_notlist[i])\n",
    "        lst.append(tup)\n",
    "    return lst\n",
    "\n",
    "n = int(input(\"Enter number of dictionary elements : \"))\n",
    "dict_notlist=input_dict(n)\n",
    "print(dict_to_list(dict_notlist))"
   ]
  },
  {
   "cell_type": "code",
   "execution_count": null,
   "id": "3aa43549",
   "metadata": {},
   "outputs": [],
   "source": [
    "'''Question3\n",
    "Write a function that creates a dictionary with each (key, value) pair being the (lower case,\n",
    "upper case) versions of a letter, respectively.'''"
   ]
  },
  {
   "cell_type": "code",
   "execution_count": 18,
   "id": "b37c667b",
   "metadata": {},
   "outputs": [
    {
     "name": "stdout",
     "output_type": "stream",
     "text": [
      "Enter lowercase aplhabets : p g e t\n",
      "{'p': 'P', 'g': 'G', 'e': 'E', 't': 'T'}\n"
     ]
    }
   ],
   "source": [
    "def mapping(lst):\n",
    "    dict_result = dict()\n",
    "    for i in lst:\n",
    "        dict_result[i] = i.upper()\n",
    "    return dict_result\n",
    "\n",
    "lst = [i for i in input(\"Enter lowercase aplhabets : \").split()]\n",
    "print(mapping(lst))"
   ]
  },
  {
   "cell_type": "code",
   "execution_count": null,
   "id": "88c7aaff",
   "metadata": {},
   "outputs": [],
   "source": [
    "'''Question4\n",
    "Write a function, that replaces all vowels in a string with a specified vowel.'''"
   ]
  },
  {
   "cell_type": "code",
   "execution_count": 22,
   "id": "95b6fe1d",
   "metadata": {},
   "outputs": [
    {
     "name": "stdout",
     "output_type": "stream",
     "text": [
      "Enter the string : apples and bananas\n",
      "Enter Vowel : u\n",
      "upplus und bununus\n"
     ]
    }
   ],
   "source": [
    "def vow_replace(string,vowel):\n",
    "    for i in string:\n",
    "        if i in 'aeiouAEIOU':\n",
    "            string = string.replace(i,vowel)\n",
    "    return string\n",
    "\n",
    "string = input(\"Enter the string : \")\n",
    "vowel = input(\"Enter Vowel : \")\n",
    "print(vow_replace(string,vowel))"
   ]
  },
  {
   "cell_type": "code",
   "execution_count": null,
   "id": "7e91a2d1",
   "metadata": {},
   "outputs": [],
   "source": [
    "'''Question5\n",
    "Create a function that takes a string as input and capitalizes a letter if its ASCII code is even\n",
    "and returns its lower case version if its ASCII code is odd.'''"
   ]
  },
  {
   "cell_type": "code",
   "execution_count": 26,
   "id": "0d8a4c35",
   "metadata": {},
   "outputs": [
    {
     "name": "stdout",
     "output_type": "stream",
     "text": [
      "Enter string : THE LITTLE MERMAID\n",
      "THe LiTTLe meRmaiD\n"
     ]
    }
   ],
   "source": [
    "def ascii_capitalize(string):\n",
    "    for i in string:\n",
    "        if ord(i)%2==0:\n",
    "            string = string.replace(i,i.upper())\n",
    "        else:\n",
    "            string=string.replace(i,i.lower())\n",
    "    return string\n",
    "\n",
    "string = input(\"Enter string : \")\n",
    "print(ascii_capitalize(string))"
   ]
  },
  {
   "cell_type": "code",
   "execution_count": null,
   "id": "8f25ac00",
   "metadata": {},
   "outputs": [],
   "source": []
  }
 ],
 "metadata": {
  "kernelspec": {
   "display_name": "Python 3 (ipykernel)",
   "language": "python",
   "name": "python3"
  },
  "language_info": {
   "codemirror_mode": {
    "name": "ipython",
    "version": 3
   },
   "file_extension": ".py",
   "mimetype": "text/x-python",
   "name": "python",
   "nbconvert_exporter": "python",
   "pygments_lexer": "ipython3",
   "version": "3.9.12"
  }
 },
 "nbformat": 4,
 "nbformat_minor": 5
}
