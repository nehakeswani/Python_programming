{
 "cells": [
  {
   "cell_type": "code",
   "execution_count": null,
   "id": "9e68c29a",
   "metadata": {},
   "outputs": [],
   "source": [
    "'''Question1\n",
    "Create a function that takes a string and returns a string in which each character is repeated\n",
    "once.'''"
   ]
  },
  {
   "cell_type": "code",
   "execution_count": 2,
   "id": "864a68d6",
   "metadata": {},
   "outputs": [
    {
     "name": "stdout",
     "output_type": "stream",
     "text": [
      "Enter string : 123456_.\n",
      "112233445566__..\n"
     ]
    }
   ],
   "source": [
    "def double_char(string):\n",
    "    double = [2*x for x in string]\n",
    "    return(\"\".join(double))\n",
    "\n",
    "string = input(\"Enter string : \")\n",
    "print(double_char(string))"
   ]
  },
  {
   "cell_type": "code",
   "execution_count": null,
   "id": "0d5a24e6",
   "metadata": {},
   "outputs": [],
   "source": [
    "'''Question2\n",
    "Create a function that reverses a boolean value and returns the string \"boolean expected\"\n",
    "if another variable type is given.'''"
   ]
  },
  {
   "cell_type": "code",
   "execution_count": 31,
   "id": "8f6b6c08",
   "metadata": {},
   "outputs": [
    {
     "name": "stdout",
     "output_type": "stream",
     "text": [
      "Enter Boolean value : 0\n",
      "Boolean Expected\n"
     ]
    }
   ],
   "source": [
    "def reverse(boolean):\n",
    "    if boolean==\"True\":\n",
    "        return False\n",
    "    elif boolean==\"False\":\n",
    "        return True\n",
    "    else:\n",
    "        return (\"Boolean Expected\")\n",
    "\n",
    "boolean = input(\"Enter Boolean value : \")\n",
    "print(reverse(boolean))"
   ]
  },
  {
   "cell_type": "code",
   "execution_count": null,
   "id": "1354cc9d",
   "metadata": {},
   "outputs": [],
   "source": [
    "'''Question3\n",
    "Create a function that returns the thickness (in meters) of a piece of paper after folding it n\n",
    "number of times. The paper starts off with a thickness of 0.5mm.'''"
   ]
  },
  {
   "cell_type": "code",
   "execution_count": 37,
   "id": "c115e9bb",
   "metadata": {},
   "outputs": [
    {
     "name": "stdout",
     "output_type": "stream",
     "text": [
      "Enter number of folds : 21\n",
      "1048.576 m\n"
     ]
    }
   ],
   "source": [
    "def num_layers(num):\n",
    "    T = 0.5\n",
    "    for i in range(num):\n",
    "        T*=2\n",
    "    return T/1000\n",
    "\n",
    "num = int(input(\"Enter number of folds : \"))\n",
    "print(num_layers(num),\"m\")"
   ]
  },
  {
   "cell_type": "code",
   "execution_count": null,
   "id": "1fe8b83e",
   "metadata": {},
   "outputs": [],
   "source": [
    "'''Question4\n",
    "Create a function that takes a single string as argument and returns an ordered list containing\n",
    "the indices of all capital letters in the string.'''"
   ]
  },
  {
   "cell_type": "code",
   "execution_count": 45,
   "id": "2b78af20",
   "metadata": {},
   "outputs": [
    {
     "name": "stdout",
     "output_type": "stream",
     "text": [
      "Enter string : eQuInOx\n",
      "[1, 3, 5]\n"
     ]
    }
   ],
   "source": [
    "def index_of_caps(string):\n",
    "    result_list = [i for i in string ]\n",
    "    result = [i for i in range(len(result_list)) if result_list[i].isupper()]\n",
    "    return result\n",
    "\n",
    "string = input(\"Enter string : \")\n",
    "print(index_of_caps(string))"
   ]
  },
  {
   "cell_type": "code",
   "execution_count": null,
   "id": "cc89e272",
   "metadata": {},
   "outputs": [],
   "source": [
    "'''Question5\n",
    "Using list comprehensions, create a function that finds all even numbers from 1 to the given\n",
    "number.'''"
   ]
  },
  {
   "cell_type": "code",
   "execution_count": 48,
   "id": "42edd084",
   "metadata": {},
   "outputs": [
    {
     "name": "stdout",
     "output_type": "stream",
     "text": [
      "Enter Number : 8\n",
      "[2, 4, 6, 8]\n"
     ]
    }
   ],
   "source": [
    "def find_even_nums(num):\n",
    "    result = [x for x in range(1,num+1) if x%2==0]\n",
    "    return result\n",
    "\n",
    "num = int(input(\"Enter Number : \"))\n",
    "print(find_even_nums(num))"
   ]
  },
  {
   "cell_type": "code",
   "execution_count": null,
   "id": "14b5983f",
   "metadata": {},
   "outputs": [],
   "source": []
  }
 ],
 "metadata": {
  "kernelspec": {
   "display_name": "Python 3 (ipykernel)",
   "language": "python",
   "name": "python3"
  },
  "language_info": {
   "codemirror_mode": {
    "name": "ipython",
    "version": 3
   },
   "file_extension": ".py",
   "mimetype": "text/x-python",
   "name": "python",
   "nbconvert_exporter": "python",
   "pygments_lexer": "ipython3",
   "version": "3.9.12"
  }
 },
 "nbformat": 4,
 "nbformat_minor": 5
}
