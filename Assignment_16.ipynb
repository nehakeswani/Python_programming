{
 "cells": [
  {
   "cell_type": "code",
   "execution_count": null,
   "id": "baeed1e9",
   "metadata": {},
   "outputs": [],
   "source": [
    "'''Question1. Write a function that stutters a word as if someone is struggling to read it. The\n",
    "first two letters are repeated twice with an ellipsis ... and space after each, and then the\n",
    "word is pronounced with a question mark ?.'''"
   ]
  },
  {
   "cell_type": "code",
   "execution_count": 4,
   "id": "ddd253f9",
   "metadata": {},
   "outputs": [
    {
     "name": "stdout",
     "output_type": "stream",
     "text": [
      "Enter the word : incredible\n",
      "in... in... incredible?\n"
     ]
    }
   ],
   "source": [
    "def stutter(word):\n",
    "    print(2*(word[:2]+\"... \")+word+\"?\")\n",
    "    \n",
    "word = input(\"Enter the word : \")\n",
    "stutter(word)"
   ]
  },
  {
   "cell_type": "code",
   "execution_count": null,
   "id": "95e54876",
   "metadata": {},
   "outputs": [],
   "source": [
    "'''Question 2.Create a function that takes an angle in radians and returns the corresponding\n",
    "angle in degrees rounded to one decimal place.'''"
   ]
  },
  {
   "cell_type": "code",
   "execution_count": 10,
   "id": "d8789d79",
   "metadata": {},
   "outputs": [
    {
     "name": "stdout",
     "output_type": "stream",
     "text": [
      "Enter angle in radians : 20\n",
      "20 radians is equal to 1145.9 degrees\n"
     ]
    }
   ],
   "source": [
    "import math\n",
    "\n",
    "def radians_to_degrees(rad):\n",
    "    return (math.degrees(rad))\n",
    "    \n",
    "rad = int(input(\"Enter angle in radians : \"))\n",
    "deg = radians_to_degrees(rad)\n",
    "print(\"{} radians is equal to {:.1f} degrees\".format(rad,deg))"
   ]
  },
  {
   "cell_type": "code",
   "execution_count": null,
   "id": "49688b20",
   "metadata": {},
   "outputs": [],
   "source": [
    "'''Question 3. In this challenge, establish if a given integer num is a Curzon number. If 1 plus\n",
    "2 elevated to num is exactly divisible by 1 plus 2 multiplied by num, then num is a Curzon\n",
    "number.'''"
   ]
  },
  {
   "cell_type": "code",
   "execution_count": 13,
   "id": "c0a24e54",
   "metadata": {},
   "outputs": [
    {
     "name": "stdout",
     "output_type": "stream",
     "text": [
      "Enter Number : 14\n",
      "True\n"
     ]
    }
   ],
   "source": [
    "def is_curzon(num):\n",
    "    numerator = 1+2**num\n",
    "    denominator = 1+2*num\n",
    "    if numerator%denominator == 0:\n",
    "        return True\n",
    "    else:\n",
    "        return False\n",
    "    \n",
    "num = int(input(\"Enter Number : \"))\n",
    "print(is_curzon(num))"
   ]
  },
  {
   "cell_type": "code",
   "execution_count": null,
   "id": "fc1a6903",
   "metadata": {},
   "outputs": [],
   "source": [
    "'''Question 4.Given the side length x find the area of a hexagon.'''"
   ]
  },
  {
   "cell_type": "code",
   "execution_count": 18,
   "id": "0fec67a0",
   "metadata": {},
   "outputs": [
    {
     "name": "stdout",
     "output_type": "stream",
     "text": [
      "Enter the length of side : 3\n",
      "23.4\n"
     ]
    }
   ],
   "source": [
    "import math\n",
    "\n",
    "def area_of_hexagon(s):\n",
    "    C = (math.sqrt(3)*3/2)\n",
    "    return (C*s*s)\n",
    "\n",
    "side = int(input(\"Enter the length of side : \"))\n",
    "print('%.1f'%area_of_hexagon(side))"
   ]
  },
  {
   "cell_type": "code",
   "execution_count": null,
   "id": "8b12a1d3",
   "metadata": {},
   "outputs": [],
   "source": [
    "'''Question 5. Create a function that returns a base-2 (binary) representation of a base-10\n",
    "(decimal) string number. To convert is simple: ((2) means base-2 and (10) means base-10)\n",
    "010101001(2) = 1 + 8 + 32 + 128.'''"
   ]
  },
  {
   "cell_type": "code",
   "execution_count": 23,
   "id": "9643ebeb",
   "metadata": {},
   "outputs": [
    {
     "name": "stdout",
     "output_type": "stream",
     "text": [
      "Enter decimal number : 10\n",
      "1010\n"
     ]
    }
   ],
   "source": [
    "def binary(num):\n",
    "    return (bin(num))\n",
    "\n",
    "num = int(input(\"Enter decimal number : \"))\n",
    "print(binary(num)[2:])"
   ]
  },
  {
   "cell_type": "code",
   "execution_count": null,
   "id": "5982ed00",
   "metadata": {},
   "outputs": [],
   "source": []
  }
 ],
 "metadata": {
  "kernelspec": {
   "display_name": "Python 3 (ipykernel)",
   "language": "python",
   "name": "python3"
  },
  "language_info": {
   "codemirror_mode": {
    "name": "ipython",
    "version": 3
   },
   "file_extension": ".py",
   "mimetype": "text/x-python",
   "name": "python",
   "nbconvert_exporter": "python",
   "pygments_lexer": "ipython3",
   "version": "3.9.12"
  }
 },
 "nbformat": 4,
 "nbformat_minor": 5
}
