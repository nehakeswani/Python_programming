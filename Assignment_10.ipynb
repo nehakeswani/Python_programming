{
 "cells": [
  {
   "cell_type": "code",
   "execution_count": 2,
   "id": "bef31d33",
   "metadata": {},
   "outputs": [],
   "source": [
    "#1. Write a Python program to find sum of elements in list?\n",
    "#2. Write a Python program to Multiply all numbers in the list?\n",
    "#3. Write a Python program to find smallest number in a list?\n",
    "#4. Write a Python program to find largest number in a list?\n",
    "#5. Write a Python program to find second largest number in a list?\n",
    "#6. Write a Python program to find N largest elements from a list?\n",
    "#7. Write a Python program to print even numbers in a list?\n",
    "#8. Write a Python program to print odd numbers in a List?\n",
    "#9. Write a Python program to Remove empty List from List?\n",
    "#10. Write a Python program to Cloning or Copying a list?\n",
    "#11. Write a Python program to Count occurrences of an element in a list?"
   ]
  },
  {
   "cell_type": "code",
   "execution_count": 6,
   "id": "fd63f66c",
   "metadata": {},
   "outputs": [
    {
     "name": "stdout",
     "output_type": "stream",
     "text": [
      "Enter number of elements : 5\n",
      "Enter element 1 : 1\n",
      "Enter element 2 : 2\n",
      "Enter element 3 : 5\n",
      "Enter element 4 : 3\n",
      "Enter element 5 : 4\n",
      "List :  [1, 2, 5, 3, 4]\n",
      "Sum of elements in list :  15\n",
      "\n",
      "Product of elements in list :  120\n",
      "\n",
      "Smallest elements in list :  1\n",
      "\n",
      "Largest elements in list :  5\n",
      "\n",
      "The second largest element in the list is :  4\n",
      "\n",
      "Mention the nth largest element needed : 3\n",
      "The 3th largest element in the list is : 3\n",
      "\n",
      "Even numbers in list :  [2, 4]\n",
      "Odd numbers in list :  [1, 3, 5]\n",
      "\n",
      "This is copied list :  [1, 2, 3, 4, 5]\n",
      "\n",
      "Enter element to count occurances : 3\n",
      "1\n"
     ]
    }
   ],
   "source": [
    "\n",
    "import numpy as np\n",
    "\n",
    "e = int(input(\"Enter number of elements : \"))\n",
    "l1 = list()\n",
    "for i in range(e):\n",
    "    l1.append(int(input(\"Enter element {} : \".format(i+1))))\n",
    "print(\"List : \",l1)\n",
    "\n",
    "l1.sort()\n",
    "n = len(l1)\n",
    "\n",
    "\n",
    "print(\"Sum of elements in list : \",np.sum(l1))\n",
    "print()\n",
    "print(\"Product of elements in list : \",np.prod(l1))\n",
    "print()\n",
    "print(\"Smallest elements in list : \",min(l1))\n",
    "print()\n",
    "print(\"Largest elements in list : \",max(l1))\n",
    "print()\n",
    "print(\"The second largest element in the list is : \",l1[n-2])\n",
    "print()\n",
    "\n",
    "N = int(input(\"Mention the nth largest element needed : \"))\n",
    "\n",
    "print(\"The {}th largest element in the list is : {}\".format(N,l1[n-N]))\n",
    "print()\n",
    "\n",
    "even = []\n",
    "odd = []\n",
    "for i in l1:\n",
    "    if i%2==0:\n",
    "        even.append(i)\n",
    "    else:\n",
    "        odd.append(i)\n",
    "print(\"Even numbers in list : \",even)\n",
    "print(\"Odd numbers in list : \",odd)\n",
    "print()\n",
    "\n",
    "CopyList = l1.copy()\n",
    "print(\"This is copied list : \",CopyList)\n",
    "print()\n",
    "\n",
    "E = int(input(\"Enter element to count occurances : \"))\n",
    "print(l1.count(E))\n"
   ]
  },
  {
   "cell_type": "code",
   "execution_count": 10,
   "id": "2531931c",
   "metadata": {},
   "outputs": [
    {
     "name": "stdout",
     "output_type": "stream",
     "text": [
      "[[1, 2], ['a', 'b'], [3, 4]]\n"
     ]
    }
   ],
   "source": [
    "#9. Write a Python program to Remove empty List from List?\n",
    "\n",
    "l1 = [[],[1,2],['a','b'],[],[3,4]]\n",
    "\n",
    "l1 = [i for i in l1 if i != []]\n",
    "\n",
    "print (l1)"
   ]
  },
  {
   "cell_type": "code",
   "execution_count": null,
   "id": "30b01597",
   "metadata": {},
   "outputs": [],
   "source": []
  }
 ],
 "metadata": {
  "kernelspec": {
   "display_name": "Python 3 (ipykernel)",
   "language": "python",
   "name": "python3"
  },
  "language_info": {
   "codemirror_mode": {
    "name": "ipython",
    "version": 3
   },
   "file_extension": ".py",
   "mimetype": "text/x-python",
   "name": "python",
   "nbconvert_exporter": "python",
   "pygments_lexer": "ipython3",
   "version": "3.9.12"
  }
 },
 "nbformat": 4,
 "nbformat_minor": 5
}
