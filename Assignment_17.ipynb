{
 "cells": [
  {
   "cell_type": "code",
   "execution_count": null,
   "id": "4e1f4bf9",
   "metadata": {},
   "outputs": [],
   "source": [
    "'''Question1. Create a function that takes three arguments a, b, c and returns the sum of the\n",
    "numbers that are evenly divided by c from the range a, b inclusive.'''"
   ]
  },
  {
   "cell_type": "code",
   "execution_count": 14,
   "id": "ebb960b3",
   "metadata": {},
   "outputs": [
    {
     "name": "stdout",
     "output_type": "stream",
     "text": [
      "Enter numbers : 1 10 2\n",
      "30\n"
     ]
    }
   ],
   "source": [
    "import numpy as np\n",
    "\n",
    "def evenly_divisible(a,b,c):\n",
    "    num = [x for x in range(c,b+1,c)]\n",
    "    return(np.sum(num))\n",
    "    \n",
    "a,b,c = [int(x) for x in input(\"Enter numbers : \").split(\" \")]\n",
    "print(evenly_divisible(a,b,c))"
   ]
  },
  {
   "cell_type": "code",
   "execution_count": null,
   "id": "e73d21aa",
   "metadata": {},
   "outputs": [],
   "source": [
    "'''Question2. Create a function that returns True if a given inequality expression is correct and\n",
    "False otherwise.'''"
   ]
  },
  {
   "cell_type": "code",
   "execution_count": 20,
   "id": "7a9e55ce",
   "metadata": {},
   "outputs": [
    {
     "name": "stdout",
     "output_type": "stream",
     "text": [
      "Enter expression : 1<2<6<9>3\n",
      "True\n"
     ]
    }
   ],
   "source": [
    "def correct_signs(expr):\n",
    "    return(eval(expr))\n",
    "\n",
    "expr = input(\"Enter expression : \")\n",
    "print(correct_signs(expr))"
   ]
  },
  {
   "cell_type": "code",
   "execution_count": null,
   "id": "d644a897",
   "metadata": {},
   "outputs": [],
   "source": [
    "'''Question3. Create a function that replaces all the vowels in a string with a specified character.'''"
   ]
  },
  {
   "cell_type": "code",
   "execution_count": 3,
   "id": "2deaaa51",
   "metadata": {},
   "outputs": [
    {
     "name": "stdout",
     "output_type": "stream",
     "text": [
      "Enter the sentence : minnie mouse\n",
      "Enter special character : ?\n",
      "m?nn?? m??s?\n"
     ]
    }
   ],
   "source": [
    "def replace_vowels(strr,char):\n",
    "    for i in strr:\n",
    "        if i in 'aeiou':\n",
    "            strr = strr.replace(i,char)\n",
    "    return strr\n",
    "\n",
    "sentence = input(\"Enter the sentence : \")\n",
    "char = input(\"Enter special character : \")\n",
    "print(replace_vowels(sentence,char))"
   ]
  },
  {
   "cell_type": "code",
   "execution_count": null,
   "id": "a544f78d",
   "metadata": {},
   "outputs": [],
   "source": [
    "'''Question4. Write a function that calculates the factorial of a number recursively.'''"
   ]
  },
  {
   "cell_type": "code",
   "execution_count": 21,
   "id": "d7fcca81",
   "metadata": {},
   "outputs": [
    {
     "name": "stdout",
     "output_type": "stream",
     "text": [
      "Enter a number : 5\n",
      "120\n"
     ]
    }
   ],
   "source": [
    "import math\n",
    "\n",
    "def fact(num):\n",
    "    return (math.factorial(num))\n",
    "\n",
    "num = int(input(\"Enter a number : \"))\n",
    "print(fact(num))"
   ]
  },
  {
   "cell_type": "code",
   "execution_count": null,
   "id": "99d80830",
   "metadata": {},
   "outputs": [],
   "source": [
    "'''Question 5. Create a function that computes the hamming distance between two strings.'''"
   ]
  },
  {
   "cell_type": "code",
   "execution_count": 25,
   "id": "039faceb",
   "metadata": {},
   "outputs": [
    {
     "name": "stdout",
     "output_type": "stream",
     "text": [
      "Enter words : abcde abdce\n",
      "2\n"
     ]
    }
   ],
   "source": [
    "def hamming_distance(str1,str2):\n",
    "    count = 0\n",
    "    strr1 = [x for x in str1]\n",
    "    strr2 = [y for y in str2]\n",
    "    for i in range(len(strr1)):\n",
    "        if(strr1[i]!=strr2[i]):\n",
    "            count+=1\n",
    "    return count\n",
    "\n",
    "str1,str2 = [x for x in input(\"Enter words : \").split(\" \")]\n",
    "print(hamming_distance(str1,str2))\n"
   ]
  },
  {
   "cell_type": "code",
   "execution_count": null,
   "id": "44a73031",
   "metadata": {},
   "outputs": [],
   "source": []
  }
 ],
 "metadata": {
  "kernelspec": {
   "display_name": "Python 3 (ipykernel)",
   "language": "python",
   "name": "python3"
  },
  "language_info": {
   "codemirror_mode": {
    "name": "ipython",
    "version": 3
   },
   "file_extension": ".py",
   "mimetype": "text/x-python",
   "name": "python",
   "nbconvert_exporter": "python",
   "pygments_lexer": "ipython3",
   "version": "3.9.12"
  }
 },
 "nbformat": 4,
 "nbformat_minor": 5
}
