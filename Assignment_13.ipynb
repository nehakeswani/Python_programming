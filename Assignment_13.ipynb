{
 "cells": [
  {
   "cell_type": "code",
   "execution_count": null,
   "id": "c513efbe",
   "metadata": {},
   "outputs": [],
   "source": [
    "'''Question 1:\n",
    "Write a program that calculates and prints the value according to the given formula:\n",
    "Q = Square root of [(2 * C * D)/H]\n",
    "Following are the fixed values of C and H:\n",
    "C is 50. H is 30.\n",
    "D is the variable whose values should be input to your program in a comma-separated\n",
    "sequence.\n",
    "Example\n",
    "Let us assume the following comma separated input sequence is given to the program:\n",
    "100,150,180\n",
    "The output of the program should be:\n",
    "18,22,24'''"
   ]
  },
  {
   "cell_type": "code",
   "execution_count": 12,
   "id": "18136922",
   "metadata": {},
   "outputs": [
    {
     "name": "stdout",
     "output_type": "stream",
     "text": [
      "Enter the sequence : 100,150,180\n",
      "18,22,24\n"
     ]
    }
   ],
   "source": [
    "import math\n",
    "C, H = 50 , 30\n",
    "\n",
    "sequence = [int(x) for x in input(\"Enter the sequence : \").split(\",\")]\n",
    "\n",
    "result = []\n",
    "for i in sequence:\n",
    "    ans = int(math.pow(((2*C*i)/H),(1/2)))\n",
    "    result.append(str(ans))\n",
    "\n",
    "print(','.join(result))"
   ]
  },
  {
   "cell_type": "code",
   "execution_count": null,
   "id": "a36767ce",
   "metadata": {},
   "outputs": [],
   "source": [
    "'''Question 2:\n",
    "Write a program which takes 2 digits, X,Y as input and generates a 2-dimensional array. The\n",
    "element value in the i-th row and j-th column of the array should be i*j.\n",
    "Note: i=0,1.., X-1; j=0,1,¡Y-1.\n",
    "Example\n",
    "Suppose the following inputs are given to the program:\n",
    "3,5\n",
    "Then, the output of the program should be:\n",
    "[[0, 0, 0, 0, 0], [0, 1, 2, 3, 4], [0, 2, 4, 6, 8]]'''"
   ]
  },
  {
   "cell_type": "code",
   "execution_count": 19,
   "id": "4c1d8817",
   "metadata": {},
   "outputs": [
    {
     "name": "stdout",
     "output_type": "stream",
     "text": [
      "Enter number of rows : 3\n",
      "Enter number of columns : 5\n",
      "[[0, 0, 0, 0, 0], [0, 1, 2, 3, 4], [0, 2, 4, 6, 8]]\n"
     ]
    }
   ],
   "source": [
    "X = int(input(\"Enter number of rows : \"))\n",
    "Y = int(input(\"Enter number of columns : \"))\n",
    "\n",
    "result = []\n",
    "for i in range(X):\n",
    "    temp = []\n",
    "    for j in range(Y):\n",
    "        temp.append(i*j)\n",
    "    result.append(temp)\n",
    "\n",
    "print(result)"
   ]
  },
  {
   "cell_type": "code",
   "execution_count": null,
   "id": "16f9fea6",
   "metadata": {},
   "outputs": [],
   "source": [
    "'''Question 3:\n",
    "Write a program that accepts a comma separated sequence of words as input and prints the\n",
    "words in a comma-separated sequence after sorting them alphabetically.\n",
    "Suppose the following input is supplied to the program:\n",
    "without,hello,bag,world\n",
    "Then, the output should be:\n",
    "bag,hello,without,world'''"
   ]
  },
  {
   "cell_type": "code",
   "execution_count": 28,
   "id": "8c8a81a4",
   "metadata": {},
   "outputs": [
    {
     "name": "stdout",
     "output_type": "stream",
     "text": [
      "Enter sequence : without,Hello,bag,world\n",
      "bag,hello,without,world\n"
     ]
    }
   ],
   "source": [
    "sequence = [x.lower() for x in input(\"Enter sequence : \").split(',')]\n",
    "\n",
    "\n",
    "sequence.sort()\n",
    "print(','.join(sequence))"
   ]
  },
  {
   "cell_type": "code",
   "execution_count": null,
   "id": "4bd6bbd7",
   "metadata": {},
   "outputs": [],
   "source": [
    "'''Question 4:\n",
    "Write a program that accepts a sequence of whitespace separated words as input and prints\n",
    "the words after removing all duplicate words and sorting them alphanumerically.\n",
    "Suppose the following input is supplied to the program:\n",
    "hello world and practice makes perfect and hello world again\n",
    "Then, the output should be:\n",
    "again and hello makes perfect practice world'''"
   ]
  },
  {
   "cell_type": "code",
   "execution_count": 31,
   "id": "5afd9bd2",
   "metadata": {},
   "outputs": [
    {
     "name": "stdout",
     "output_type": "stream",
     "text": [
      "Enter sequence : hello world and practice makes perfect and hello world again\n",
      "again and hello makes perfect practice world\n"
     ]
    }
   ],
   "source": [
    "sequence = [x.lower() for x in input(\"Enter sequence : \").split(\" \")]\n",
    "sequence_set = set(sequence)\n",
    "sequence = list(sequence_set)\n",
    "sequence.sort()\n",
    "\n",
    "print(\" \".join(sequence))"
   ]
  },
  {
   "cell_type": "code",
   "execution_count": null,
   "id": "87cca7f0",
   "metadata": {},
   "outputs": [],
   "source": [
    "'''Question 5:\n",
    "Write a program that accepts a sentence and calculate the number of letters and digits.\n",
    "Suppose the following input is supplied to the program:\n",
    "hello world! 123\n",
    "Then, the output should be:\n",
    "LETTERS 10\n",
    "\n",
    "DIGITS 3'''"
   ]
  },
  {
   "cell_type": "code",
   "execution_count": 34,
   "id": "dfb218e9",
   "metadata": {},
   "outputs": [
    {
     "name": "stdout",
     "output_type": "stream",
     "text": [
      "Enter sentence : hello world! 123\n",
      "LETTERS  10\n",
      "DIGITS  3\n"
     ]
    }
   ],
   "source": [
    "sentence = input(\"Enter sentence : \")\n",
    "decimal, alpha = 0,0\n",
    "for char in sentence:\n",
    "    if char.isdecimal():\n",
    "        decimal+=1\n",
    "    elif char.isalpha():\n",
    "        alpha+=1\n",
    "        \n",
    "print(\"LETTERS \",alpha)\n",
    "print(\"DIGITS \",decimal)"
   ]
  },
  {
   "cell_type": "code",
   "execution_count": null,
   "id": "bdcd4f50",
   "metadata": {},
   "outputs": [],
   "source": [
    "'''Question 6:\n",
    "A website requires the users to input username and password to register. Write a program to\n",
    "check the validity of password input by users.\n",
    "Following are the criteria for checking the password:\n",
    "1. At least 1 letter between [a-z]\n",
    "2. At least 1 number between [0-9]\n",
    "1. At least 1 letter between [A-Z]\n",
    "3. At least 1 character from [$#@]\n",
    "4. Minimum length of transaction password: 6\n",
    "5. Maximum length of transaction password: 12\n",
    "Your program should accept a sequence of comma separated passwords and will check them\n",
    "according to the above criteria. Passwords that match the criteria are to be printed, each\n",
    "separated by a comma.\n",
    "Example\n",
    "If the following passwords are given as input to the program:\n",
    "ABd1234@1,a F1#,2w3E*,2We3345\n",
    "Then, the output of the program should be:\n",
    "ABd1234@1'''"
   ]
  },
  {
   "cell_type": "code",
   "execution_count": 38,
   "id": "7cd80693",
   "metadata": {},
   "outputs": [
    {
     "name": "stdout",
     "output_type": "stream",
     "text": [
      "Enter passwords to be checked : ABd1234@1,a F1#,2w3E*,2We3345\n",
      "ABd1234@1\n"
     ]
    }
   ],
   "source": [
    "import re\n",
    "\n",
    "passwords = [x for x in input(\"Enter passwords to be checked : \").split(\",\")]\n",
    "check_pass = []\n",
    "for i in passwords:\n",
    "    if(len(i)<=12 and len(i)>=6):\n",
    "        if(bool(re.match('^[a-zA-Z0-9]*$',i))==False):\n",
    "            check_pass.append(i)\n",
    "\n",
    "print(\" \".join(check_pass))\n",
    "        "
   ]
  }
 ],
 "metadata": {
  "kernelspec": {
   "display_name": "Python 3 (ipykernel)",
   "language": "python",
   "name": "python3"
  },
  "language_info": {
   "codemirror_mode": {
    "name": "ipython",
    "version": 3
   },
   "file_extension": ".py",
   "mimetype": "text/x-python",
   "name": "python",
   "nbconvert_exporter": "python",
   "pygments_lexer": "ipython3",
   "version": "3.9.12"
  }
 },
 "nbformat": 4,
 "nbformat_minor": 5
}
