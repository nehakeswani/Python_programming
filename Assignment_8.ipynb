{
 "cells": [
  {
   "cell_type": "code",
   "execution_count": 10,
   "id": "ee552400",
   "metadata": {},
   "outputs": [
    {
     "name": "stdout",
     "output_type": "stream",
     "text": [
      "Enter no.of rows of  Matrix : 2\n",
      "Enter no.of columns of Matrix : 2\n",
      "Enter 1x1 Element : 1\n",
      "Enter 1x2 Element : 2\n",
      "Enter 2x1 Element : 3\n",
      "Enter 2x2 Element : 4\n",
      "[1, 2]\n",
      "[3, 4]\n",
      "Enter 1x1 Element : 2\n",
      "Enter 1x2 Element : 2\n",
      "Enter 2x1 Element : 5\n",
      "Enter 2x2 Element : 6\n",
      "[2, 2]\n",
      "[5, 6]\n",
      "Sum of given matrices is \n",
      "[3 4]\n",
      "[ 8 10]\n"
     ]
    }
   ],
   "source": [
    "#1. Write a Python Program to Add Two Matrices?\n",
    "\n",
    "import numpy as np\n",
    "\n",
    "def PrintMatrix(a):\n",
    "    for i in a:\n",
    "        print(i)\n",
    "        \n",
    "def InputMatrix():\n",
    "    mat = []\n",
    "    for i in range(dim1):\n",
    "        row = []\n",
    "        for j in range(dim2):\n",
    "            e = int(input(\"Enter {}x{} Element : \".format(i+1,j+1)))\n",
    "            row.append(e)\n",
    "        mat.append(row)\n",
    "    return mat\n",
    "\n",
    "def AddMatrix(a1,a2):\n",
    "    return(np.add(a1,a2))\n",
    "      \n",
    "dim1 = int(input(\"Enter no.of rows of  Matrix : \"))\n",
    "dim2 = int(input(\"Enter no.of columns of Matrix : \"))\n",
    "\n",
    "mat1 = InputMatrix()\n",
    "PrintMatrix(mat1)\n",
    "mat2 = InputMatrix()\n",
    "PrintMatrix(mat2)\n",
    "\n",
    "mat3 = AddMatrix(mat1,mat2)\n",
    "print(\"Sum of given matrices is \")\n",
    "PrintMatrix(mat3)"
   ]
  },
  {
   "cell_type": "code",
   "execution_count": 28,
   "id": "cafc6ad0",
   "metadata": {},
   "outputs": [
    {
     "name": "stdout",
     "output_type": "stream",
     "text": [
      "Enter no.of rows of  Matrix : 2\n",
      "Enter no.of columns of Matrix : 3\n",
      "Enter 1x1 Element : 1\n",
      "Enter 1x2 Element : 2\n",
      "Enter 1x3 Element : 3\n",
      "Enter 2x1 Element : 4\n",
      "Enter 2x2 Element : 5\n",
      "Enter 2x3 Element : 6\n",
      "[1, 2, 3]\n",
      "[4, 5, 6]\n",
      "Enter no.of rows of  Matrix : 3\n",
      "Enter no.of columns of Matrix : 2\n",
      "Enter 1x1 Element : 1\n",
      "Enter 1x2 Element : 2\n",
      "Enter 2x1 Element : 3\n",
      "Enter 2x2 Element : 4\n",
      "Enter 3x1 Element : 5\n",
      "Enter 3x2 Element : 6\n",
      "[1, 2]\n",
      "[3, 4]\n",
      "[5, 6]\n",
      "Product of given matrices is \n",
      "[22 28]\n",
      "[49 64]\n"
     ]
    }
   ],
   "source": [
    "#2. Write a Python Program to Multiply Two Matrices?\n",
    "\n",
    "import numpy as np\n",
    "\n",
    "def PrintMatrix(a):\n",
    "    for i in a:\n",
    "        print(i)\n",
    "        \n",
    "def InputMatrix():\n",
    "    mat = []\n",
    "    dim1 = int(input(\"Enter no.of rows of  Matrix : \"))\n",
    "    dim2 = int(input(\"Enter no.of columns of Matrix : \"))\n",
    "    for i in range(dim1):\n",
    "        row = []\n",
    "        for j in range(dim2):\n",
    "            e = int(input(\"Enter {}x{} Element : \".format(i+1,j+1)))\n",
    "            row.append(e)\n",
    "        mat.append(row)\n",
    "    return mat\n",
    "\n",
    "def MultiplyMatrix(a1,a2):\n",
    "    if(len(a1[0])==len(a2)):\n",
    "        a3 = np.matmul(a1,a2)\n",
    "    else:\n",
    "        a3 = []\n",
    "    return a3\n",
    "        \n",
    "\n",
    "mat1 = InputMatrix()\n",
    "PrintMatrix(mat1)\n",
    "mat2 = InputMatrix()\n",
    "PrintMatrix(mat2)\n",
    "\n",
    "mat3 = MultiplyMatrix(mat1,mat2)\n",
    "\n",
    "if len(mat3)!=0:\n",
    "    print(\"Product of given matrices is \")\n",
    "    PrintMatrix(mat3)\n",
    "else:\n",
    "    print(\"ERROR : The number of rows of matrix1 should be equal to number of columns of matrix2\")"
   ]
  },
  {
   "cell_type": "code",
   "execution_count": 30,
   "id": "76b6137f",
   "metadata": {},
   "outputs": [
    {
     "name": "stdout",
     "output_type": "stream",
     "text": [
      "Enter no.of rows of  Matrix : 2\n",
      "Enter no.of columns of Matrix : 3\n",
      "Enter 1x1 Element : 1\n",
      "Enter 1x2 Element : 2\n",
      "Enter 1x3 Element : 3\n",
      "Enter 2x1 Element : 4\n",
      "Enter 2x2 Element : 5\n",
      "Enter 2x3 Element : 6\n",
      "[1, 2, 3]\n",
      "[4, 5, 6]\n",
      "Transposed Matrix : \n",
      "[[1 4]\n",
      " [2 5]\n",
      " [3 6]]\n"
     ]
    }
   ],
   "source": [
    "#3. Write a Python Program to Transpose a Matrix?\n",
    "\n",
    "import numpy as np\n",
    "\n",
    "def PrintMatrix(a):\n",
    "    for i in a:\n",
    "        print(i)\n",
    "        \n",
    "def InputMatrix():\n",
    "    mat = []\n",
    "    dim1 = int(input(\"Enter no.of rows of  Matrix : \"))\n",
    "    dim2 = int(input(\"Enter no.of columns of Matrix : \"))\n",
    "    for i in range(dim1):\n",
    "        row = []\n",
    "        for j in range(dim2):\n",
    "            e = int(input(\"Enter {}x{} Element : \".format(i+1,j+1)))\n",
    "            row.append(e)\n",
    "        mat.append(row)\n",
    "    return mat\n",
    "\n",
    "def TransposeMatrix(a):\n",
    "    return np.transpose(a)\n",
    "\n",
    "mat = InputMatrix()\n",
    "PrintMatrix(mat)\n",
    "print(\"Transposed Matrix : \")\n",
    "print(TransposeMatrix(mat))"
   ]
  },
  {
   "cell_type": "code",
   "execution_count": 36,
   "id": "fd2f2d05",
   "metadata": {},
   "outputs": [
    {
     "name": "stdout",
     "output_type": "stream",
     "text": [
      "Enter words to be sorted : This is a set of words\n",
      "The Sorted words list is :  ['a', 'is', 'of', 'set', 'this', 'words']\n"
     ]
    }
   ],
   "source": [
    "#4. Write a Python Program to Sort Words in Alphabetic Order?\n",
    "\n",
    "def SortWords(s):\n",
    "    s = s.lower()\n",
    "    s1 = s.split()\n",
    "    s1.sort()\n",
    "    return s1\n",
    "        \n",
    "line = str(input(\"Enter words to be sorted : \"))\n",
    "print(\"The Sorted words list is : \",SortWords(line))"
   ]
  },
  {
   "cell_type": "code",
   "execution_count": 47,
   "id": "c49b51c7",
   "metadata": {},
   "outputs": [
    {
     "name": "stdout",
     "output_type": "stream",
     "text": [
      "Enter line : This. ,is$ a@ Li!ne w!ith#out Punt+uatI!on.\n",
      "The line without punctuation is :  This is a Line without PuntuatIon\n"
     ]
    }
   ],
   "source": [
    "#5. Write a Python Program to Remove Punctuation From a String?\n",
    "\n",
    "import string\n",
    "\n",
    "def RemovePunch(s):\n",
    "    punch = list(string.punctuation)\n",
    "    str1 = ''.join(i for i in s if i not in punch)\n",
    "    return str1\n",
    "\n",
    "line = str(input(\"Enter line : \"))\n",
    "print(\"The line without punctuation is : \",RemovePunch(line))"
   ]
  },
  {
   "cell_type": "code",
   "execution_count": null,
   "id": "35e711cf",
   "metadata": {},
   "outputs": [],
   "source": []
  }
 ],
 "metadata": {
  "celltoolbar": "Edit Metadata",
  "kernelspec": {
   "display_name": "Python 3 (ipykernel)",
   "language": "python",
   "name": "python3"
  },
  "language_info": {
   "codemirror_mode": {
    "name": "ipython",
    "version": 3
   },
   "file_extension": ".py",
   "mimetype": "text/x-python",
   "name": "python",
   "nbconvert_exporter": "python",
   "pygments_lexer": "ipython3",
   "version": "3.9.12"
  }
 },
 "nbformat": 4,
 "nbformat_minor": 5
}
