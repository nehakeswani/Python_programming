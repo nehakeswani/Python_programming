{
 "cells": [
  {
   "cell_type": "code",
   "execution_count": 14,
   "id": "e3b9683e",
   "metadata": {},
   "outputs": [
    {
     "name": "stdout",
     "output_type": "stream",
     "text": [
      "Enter in km : 7\n",
      "value in miles =  4.349597\n"
     ]
    }
   ],
   "source": [
    "#1.\tWrite a Python program to convert kilometers to miles?\n",
    "\n",
    "convert = float (0.621371)\n",
    "\n",
    "km = float(input(\"Enter in km : \"))\n",
    "miles = float(km * convert)\n",
    "\n",
    "print(\"value in miles = \",miles)"
   ]
  },
  {
   "cell_type": "code",
   "execution_count": 17,
   "id": "805dd882",
   "metadata": {},
   "outputs": [
    {
     "name": "stdout",
     "output_type": "stream",
     "text": [
      "Enter temperature in celsius : 4.5\n",
      "Temperature in Fahrenheit is :  40.1 F\n"
     ]
    }
   ],
   "source": [
    "#2.\tWrite a Python program to convert Celsius to Fahrenheit?\n",
    "\n",
    "\n",
    "C = float(input(\"Enter temperature in celsius : \"))\n",
    "\n",
    "F = float((C*(9/5))+32)\n",
    "\n",
    "print(\"Temperature in Fahrenheit is : \",F, 'F')"
   ]
  },
  {
   "cell_type": "code",
   "execution_count": 23,
   "id": "c8db2b12",
   "metadata": {},
   "outputs": [
    {
     "name": "stdout",
     "output_type": "stream",
     "text": [
      "Enter year : 2022\n",
      "Enter month between 1-12 : 5\n",
      "      May 2022\n",
      "Mo Tu We Th Fr Sa Su\n",
      "                   1\n",
      " 2  3  4  5  6  7  8\n",
      " 9 10 11 12 13 14 15\n",
      "16 17 18 19 20 21 22\n",
      "23 24 25 26 27 28 29\n",
      "30 31\n",
      "\n"
     ]
    }
   ],
   "source": [
    "#3.\tWrite a Python program to display calendar?\n",
    "\n",
    "import calendar\n",
    "\n",
    "year = int(input(\"Enter year : \"))\n",
    "Month = int(input(\"Enter month between 1-12 : \"))\n",
    "\n",
    "if (Month in range(1,13)):\n",
    "    print(calendar.month(year,Month))\n",
    "else:\n",
    "    print(\"Invalid Month\")"
   ]
  },
  {
   "cell_type": "code",
   "execution_count": 32,
   "id": "3f6f82f0",
   "metadata": {},
   "outputs": [
    {
     "name": "stdout",
     "output_type": "stream",
     "text": [
      "Enter 3 constants a, b, c for quadratic equation : 1 2 3\n",
      "The two solutions of given quadratice equation are :  (-2+1.4142135623730951j)  and  (-2-1.4142135623730951j)\n"
     ]
    }
   ],
   "source": [
    "#4.\tWrite a Python program to solve quadratic equation?\n",
    "\n",
    "import cmath\n",
    "\n",
    "a,b,c = [int(a) for a in input(\"Enter 3 constants a, b, c for quadratic equation : \").split()]\n",
    "\n",
    "sol1 = complex((-b+cmath.sqrt((b*b)-4*a*c)/(2*a)))\n",
    "sol2 = complex((-b-cmath.sqrt((b*b)-4*a*c)/(2*a)))\n",
    "\n",
    "             \n",
    "print(\"The two solutions of given quadratice equation are : \",sol1, \" and \", sol2)"
   ]
  },
  {
   "cell_type": "code",
   "execution_count": 33,
   "id": "aa8158be",
   "metadata": {},
   "outputs": [
    {
     "name": "stdout",
     "output_type": "stream",
     "text": [
      "a =  20\n",
      "b =  10\n"
     ]
    }
   ],
   "source": [
    "#5.\tWrite a Python program to swap two variables without temp variable?\n",
    "\n",
    "a = 10\n",
    "b = 20\n",
    "a=a+b\n",
    "b=a-b\n",
    "a=a-b\n",
    "print('a = ',a)\n",
    "print('b = ',b)"
   ]
  },
  {
   "cell_type": "code",
   "execution_count": null,
   "id": "753032c4",
   "metadata": {},
   "outputs": [],
   "source": []
  }
 ],
 "metadata": {
  "kernelspec": {
   "display_name": "Python 3 (ipykernel)",
   "language": "python",
   "name": "python3"
  },
  "language_info": {
   "codemirror_mode": {
    "name": "ipython",
    "version": 3
   },
   "file_extension": ".py",
   "mimetype": "text/x-python",
   "name": "python",
   "nbconvert_exporter": "python",
   "pygments_lexer": "ipython3",
   "version": "3.9.12"
  }
 },
 "nbformat": 4,
 "nbformat_minor": 5
}
