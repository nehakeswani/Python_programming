{
 "cells": [
  {
   "cell_type": "code",
   "execution_count": 45,
   "id": "98de5ee7",
   "metadata": {},
   "outputs": [
    {
     "name": "stdout",
     "output_type": "stream",
     "text": [
      "Enter no. of elements for array : 4\n",
      "Enter Element of array : 1\n",
      "Enter Element of array : 2\n",
      "Enter Element of array : 3\n",
      "Enter Element of array : 4\n",
      "Array : 1 2 3 4 \n",
      "Enter no. of elements for array : 4\n",
      "Enter Element of array : 1\n",
      "Enter Element of array : 2\n",
      "Enter Element of array : 3\n",
      "Enter Element of array : 4\n",
      "Array : 1 2 3 4 \n",
      "Sum of both arrays is [2 4 6 8]\n"
     ]
    }
   ],
   "source": [
    "#1. Write a Python Program to find sum of array?\n",
    "\n",
    "import array as arr\n",
    "import numpy as np\n",
    "\n",
    "def PrintArray(ar):\n",
    "    print(\"Array : \",end=\"\")\n",
    "    for i in range(len(ar)):\n",
    "        print (ar[i],end=\" \")\n",
    "    print()\n",
    "    \n",
    "def InputArray():\n",
    "    e = int(input(\"Enter no. of elements for array : \"))\n",
    "    ar = []\n",
    "    for i in range (0,e):\n",
    "        n = int(input(\"Enter Element of array : \"))\n",
    "        ar.append(n)\n",
    "    return ar\n",
    "    \n",
    "def AddArray(a1,a2):\n",
    "    a3 = np.add(a1,a2)\n",
    "    return a3\n",
    "\n",
    "arr1 = InputArray()\n",
    "PrintArray(arr1)\n",
    "arr2 = InputArray()\n",
    "PrintArray(arr2)\n",
    "\n",
    "print(\"Sum of both arrays is {}\".format(AddArray(arr1,arr2)))"
   ]
  },
  {
   "cell_type": "markdown",
   "id": "eec9999c",
   "metadata": {},
   "source": [
    "#2. Write a Python Program to find largest element in an array?\n",
    "\n",
    "def PrintArray(ar):\n",
    "    print(\"Array : \",end=\"\")\n",
    "    for i in range(len(ar)):\n",
    "        print (ar[i],end=\" \")\n",
    "    print()\n",
    "\n",
    "def InputArray():\n",
    "    e = int(input(\"Enter no. of elements for array : \"))\n",
    "    ar = []\n",
    "    for i in range (0,e):\n",
    "        n = int(input(\"Enter Element of array : \"))\n",
    "        ar.append(n)\n",
    "    return ar\n",
    "\n",
    "def LargestElement(a):\n",
    "    largest = 0\n",
    "    for i in range(len(a)):\n",
    "        if(a[i]>largest):\n",
    "            largest = a[i]\n",
    "    return largest\n",
    "\n",
    "\n",
    "\n",
    "arr = InputArray()\n",
    "PrintArray(arr)\n",
    "print(\"The largest element of array is : {}\".format(LargestElement(arr)))\n"
   ]
  },
  {
   "cell_type": "code",
   "execution_count": 25,
   "id": "397e8983",
   "metadata": {},
   "outputs": [
    {
     "name": "stdout",
     "output_type": "stream",
     "text": [
      "Enter no. of elements for array : 6\n",
      "Enter Element of array : 1\n",
      "Enter Element of array : 2\n",
      "Enter Element of array : 3\n",
      "Enter Element of array : 4\n",
      "Enter Element of array : 5\n",
      "Enter Element of array : 6\n",
      "Array : 1 2 3 4 5 6 \n",
      "Enter the number of elements to rotate array : 3\n",
      "[4, 5, 6, 1, 2, 3]\n"
     ]
    }
   ],
   "source": [
    "#3. Write a Python Program for array rotation?\n",
    "\n",
    "def PrintArray(ar):\n",
    "    print(\"Array : \",end=\"\")\n",
    "    for i in range(len(ar)):\n",
    "        print (ar[i],end=\" \")\n",
    "    print()\n",
    "\n",
    "def InputArray():\n",
    "    e = int(input(\"Enter no. of elements for array : \"))\n",
    "    ar = []\n",
    "    for i in range (0,e):\n",
    "        n = int(input(\"Enter Element of array : \"))\n",
    "        ar.append(n)\n",
    "    return ar\n",
    "\n",
    "def ArrayRotate(a,n):\n",
    "    for i in range(n):\n",
    "        a.append(a[0])\n",
    "        a.remove(a[0])\n",
    "    return a\n",
    "\n",
    "arr1 = InputArray()\n",
    "PrintArray(arr1)\n",
    "n = int(input(\"Enter the number of elements to rotate array : \"))\n",
    "print(ArrayRotate(arr1,n))\n"
   ]
  },
  {
   "cell_type": "code",
   "execution_count": 49,
   "id": "0baf7265",
   "metadata": {},
   "outputs": [
    {
     "name": "stdout",
     "output_type": "stream",
     "text": [
      "Enter no. of elements for array : 7\n",
      "Enter Element of array : 1\n",
      "Enter Element of array : 2\n",
      "Enter Element of array : 3\n",
      "Enter Element of array : 4\n",
      "Enter Element of array : 5\n",
      "Enter Element of array : 6\n",
      "Enter Element of array : 7\n",
      "Array : 1 2 3 4 5 6 7 \n",
      "How many parts to split array 3\n",
      "After spliting : Array : [1 2 3] [4 5] [6 7] \n",
      "After adding 1st part to the end Array : [4 5] [6 7] [1 2 3] \n"
     ]
    }
   ],
   "source": [
    "#4. Write a Python Program to Split the array and add the first part to the end?\n",
    "\n",
    "import numpy as np\n",
    "\n",
    "def PrintArray(ar):\n",
    "    print(\"Array : \",end=\"\")\n",
    "    for i in range(len(ar)):\n",
    "        print (ar[i],end=\" \")\n",
    "    print()\n",
    "\n",
    "def InputArray():\n",
    "    e = int(input(\"Enter no. of elements for array : \"))\n",
    "    ar = []\n",
    "    for i in range (0,e):\n",
    "        n = int(input(\"Enter Element of array : \"))\n",
    "        ar.append(n)\n",
    "    return ar\n",
    "\n",
    "def ArraySplit(a,n):\n",
    "    a = np.array_split(a,n)\n",
    "    return a\n",
    "\n",
    "def AddToEnd(a):\n",
    "    a.append(a[0])\n",
    "    a.remove(a[0])\n",
    "    return a\n",
    "\n",
    "arr1 = InputArray()\n",
    "PrintArray(arr1)\n",
    "\n",
    "num = int(input(\"How many parts to split array \"))\n",
    "arr2 = ArraySplit(arr1,num)\n",
    "print(\"After spliting : \",end = \"\")\n",
    "PrintArray(arr2)\n",
    "arr3 = AddToEnd(arr2)\n",
    "print(\"After adding 1st part to the end \",end = \"\")\n",
    "PrintArray(arr3)"
   ]
  },
  {
   "cell_type": "code",
   "execution_count": 65,
   "id": "8ccbc628",
   "metadata": {},
   "outputs": [
    {
     "name": "stdout",
     "output_type": "stream",
     "text": [
      "Enter no. of elements for array : 6\n",
      "Enter Element of array : 2\n",
      "Enter Element of array : 5\n",
      "Enter Element of array : 2\n",
      "Enter Element of array : 6\n",
      "Enter Element of array : 2\n",
      "Enter Element of array : 5\n",
      "Array : 2 5 2 6 2 5 \n",
      "Non Monotonic\n"
     ]
    }
   ],
   "source": [
    "#5. Write a Python Program to check if given array is Monotonic?\n",
    "\n",
    "def PrintArray(ar):\n",
    "    print(\"Array : \",end=\"\")\n",
    "    for i in range(len(ar)):\n",
    "        print (ar[i],end=\" \")\n",
    "    print()\n",
    "\n",
    "def InputArray():\n",
    "    e = int(input(\"Enter no. of elements for array : \"))\n",
    "    ar = []\n",
    "    for i in range (0,e):\n",
    "        n = int(input(\"Enter Element of array : \"))\n",
    "        ar.append(n)\n",
    "    return ar\n",
    "\n",
    "def MonoArray(a):\n",
    "    if all(a[i]<=a[i+1] for i in range(0,len(a)-1) or (a[i]>=a[i+1] for i in range(0,len(a)-1))):\n",
    "        print(\"monotonic\")\n",
    "    else:\n",
    "        print(\"Non Monotonic\")\n",
    "                \n",
    "arr1 = InputArray()\n",
    "PrintArray(arr1)\n",
    "MonoArray(arr1)\n",
    "                "
   ]
  },
  {
   "cell_type": "markdown",
   "id": "f916b42d",
   "metadata": {},
   "source": [
    "#### "
   ]
  }
 ],
 "metadata": {
  "kernelspec": {
   "display_name": "Python 3 (ipykernel)",
   "language": "python",
   "name": "python3"
  },
  "language_info": {
   "codemirror_mode": {
    "name": "ipython",
    "version": 3
   },
   "file_extension": ".py",
   "mimetype": "text/x-python",
   "name": "python",
   "nbconvert_exporter": "python",
   "pygments_lexer": "ipython3",
   "version": "3.9.12"
  }
 },
 "nbformat": 4,
 "nbformat_minor": 5
}
