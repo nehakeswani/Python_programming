{
 "cells": [
  {
   "cell_type": "code",
   "execution_count": 16,
   "id": "f9bd0dc1",
   "metadata": {},
   "outputs": [
    {
     "name": "stdout",
     "output_type": "stream",
     "text": [
      "Enter a number : 176\n",
      "176 is NOT a Disarium number.\n"
     ]
    }
   ],
   "source": [
    "#1. Write a Python program to check if the given number is a Disarium Number?\n",
    "#175 = 1¹ + 7² + 5³ = 1 + 49 + 125= 175\n",
    "\n",
    "import math\n",
    "\n",
    "def CheckDisarium(n):\n",
    "    nn = n\n",
    "    n1 = []\n",
    "    while n>0:\n",
    "        n1.append(n%10)\n",
    "        n=int(n/10)\n",
    "    \n",
    "    n1.reverse()\n",
    "    sum=int(0)\n",
    "    for i in range(len(n1)):\n",
    "        sum += math.pow(n1[i],i+1)\n",
    "    \n",
    "    if sum == nn:\n",
    "        return True\n",
    "    else:\n",
    "        return False\n",
    "    \n",
    "num = int(input(\"Enter a number : \"))\n",
    "if CheckDisarium(num) :\n",
    "    print(\"{} is a Disarium number.\".format(num))\n",
    "else:\n",
    "    print(\"{} is NOT a Disarium number.\".format(num))"
   ]
  },
  {
   "cell_type": "code",
   "execution_count": 21,
   "id": "9018ad36",
   "metadata": {},
   "outputs": [
    {
     "name": "stdout",
     "output_type": "stream",
     "text": [
      "Disarium numbers between 1 to 100 are :  [1, 2, 3, 4, 5, 6, 7, 8, 9, 89]\n"
     ]
    }
   ],
   "source": [
    "#Write a Python program to print all disarium numbers between 1 to 100?\n",
    "\n",
    "import math\n",
    "\n",
    "def CheckDisarium(n):\n",
    "    nn = n\n",
    "    n1 = []\n",
    "    while n>0:\n",
    "        n1.append(n%10)\n",
    "        n=int(n/10)\n",
    "    \n",
    "    n1.reverse()\n",
    "    sum=int(0)\n",
    "    for i in range(len(n1)):\n",
    "        sum += math.pow(n1[i],i+1)\n",
    "    \n",
    "    if sum == nn:\n",
    "        return True\n",
    "    else:\n",
    "        return False\n",
    "    \n",
    "DisList = []\n",
    "for i in range(1,101):\n",
    "    if CheckDisarium(i) :\n",
    "        DisList.append(i)\n",
    "    else:\n",
    "        continue\n",
    "        \n",
    "print(\"Disarium numbers between 1 to 100 are : \",DisList)"
   ]
  },
  {
   "cell_type": "code",
   "execution_count": 7,
   "id": "ed812976",
   "metadata": {},
   "outputs": [
    {
     "name": "stdout",
     "output_type": "stream",
     "text": [
      "Enter Number : 14\n",
      "Not Happy Number\n"
     ]
    }
   ],
   "source": [
    "#3. Write a Python program to check if the given number is Happy Number?\n",
    "#13 is a happy number because 1^{2}+3^{2}=10  1^{2}+0^{2}=1. On the other hand, 4 is not a happy number because the sequence starting with 4^{2}=16 ; 1^{2}+6^{2}=37 eventually reaches 2^{2}+0^{2}=4\n",
    "\n",
    "import math\n",
    "\n",
    "def SumOfSquare(n):\n",
    "    sum1=0\n",
    "    while(n>0):\n",
    "        sum1 += int(math.pow(n%10,2))\n",
    "        n=int(n/10)\n",
    "    return sum1\n",
    "\n",
    "def HappyNum(n):\n",
    "    checked = list()\n",
    "    while (n>1 and n not in checked):\n",
    "        checked.append(n)\n",
    "        n = SumOfSquare(n)\n",
    "    return n == 1\n",
    "\n",
    "        \n",
    "num = int(input(\"Enter Number : \"))\n",
    "if HappyNum(num):\n",
    "    print(\"Happy Number\")\n",
    "else:\n",
    "    print(\"Not Happy Number\")\n",
    "    \n",
    "    "
   ]
  },
  {
   "cell_type": "code",
   "execution_count": 8,
   "id": "5781c422",
   "metadata": {},
   "outputs": [
    {
     "name": "stdout",
     "output_type": "stream",
     "text": [
      "[1, 7, 10, 13, 19, 23, 28, 31, 32, 44, 49, 68, 70, 79, 82, 86, 91, 94, 97, 100]\n"
     ]
    }
   ],
   "source": [
    "#4. Write a Python program to print all happy numbers between 1 and 100?\n",
    "\n",
    "import math\n",
    "\n",
    "def SumOfSquare(n):\n",
    "    sum1=0\n",
    "    while(n>0):\n",
    "        sum1 += int(math.pow(n%10,2))\n",
    "        n=int(n/10)\n",
    "    return sum1\n",
    "\n",
    "def HappyNum(n):\n",
    "    checked = list()\n",
    "    while (n>1 and n not in checked):\n",
    "        checked.append(n)\n",
    "        n = SumOfSquare(n)\n",
    "    return n == 1\n",
    "\n",
    "ans = list()\n",
    "for i in range(1,101):\n",
    "    if HappyNum(i):\n",
    "        ans.append(i)\n",
    "    else:\n",
    "        continue\n",
    "print(ans)"
   ]
  },
  {
   "cell_type": "code",
   "execution_count": 12,
   "id": "60236018",
   "metadata": {},
   "outputs": [
    {
     "name": "stdout",
     "output_type": "stream",
     "text": [
      "Enter a Number : 156\n",
      "Harshad Number\n"
     ]
    }
   ],
   "source": [
    "#5. Write a Python program to determine whether the given number is a Harshad Number?\n",
    "#Harshad number if it is divisible by the sum of its digit\n",
    "\n",
    "import numpy as np\n",
    "def HarshadNum(n):\n",
    "    nn = n\n",
    "    n1 = []\n",
    "    while nn>0:\n",
    "        n1.append(nn%10)\n",
    "        nn = nn//10\n",
    "    sum = np.sum(n1)\n",
    "    if(n%sum == 0):\n",
    "        return True\n",
    "    else:\n",
    "        return False\n",
    "    \n",
    "num = int(input(\"Enter a Number : \"))\n",
    "if(HarshadNum(num)):\n",
    "    print(\"Harshad Number\")\n",
    "else:\n",
    "    print(\"Not Harshad Number\")"
   ]
  },
  {
   "cell_type": "code",
   "execution_count": 27,
   "id": "7c8dbb5a",
   "metadata": {},
   "outputs": [
    {
     "name": "stdout",
     "output_type": "stream",
     "text": [
      "[2, 6, 12, 20, 30, 42, 56, 72, 90]\n"
     ]
    }
   ],
   "source": [
    "#6. Write a Python program to print all pronic numbers between 1 and 100?\n",
    "\n",
    "def PronicNum(n):\n",
    "    for i in range((n//2)+1):\n",
    "        if(i*(i+1)==n):\n",
    "            return True\n",
    "    else:\n",
    "        return False\n",
    "\n",
    "ans = list()\n",
    "\n",
    "for i in range(1,101):\n",
    "    if(PronicNum(i)):\n",
    "       ans.append(i)\n",
    "print(ans)\n"
   ]
  },
  {
   "cell_type": "code",
   "execution_count": null,
   "id": "da55631b",
   "metadata": {},
   "outputs": [],
   "source": []
  }
 ],
 "metadata": {
  "kernelspec": {
   "display_name": "Python 3 (ipykernel)",
   "language": "python",
   "name": "python3"
  },
  "language_info": {
   "codemirror_mode": {
    "name": "ipython",
    "version": 3
   },
   "file_extension": ".py",
   "mimetype": "text/x-python",
   "name": "python",
   "nbconvert_exporter": "python",
   "pygments_lexer": "ipython3",
   "version": "3.9.12"
  }
 },
 "nbformat": 4,
 "nbformat_minor": 5
}
