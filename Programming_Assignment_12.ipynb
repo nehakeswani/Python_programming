{
 "cells": [
  {
   "cell_type": "code",
   "execution_count": null,
   "id": "86c193de",
   "metadata": {},
   "outputs": [],
   "source": [
    "#1. Write a Python program to Extract Unique values dictionary values?\n",
    "#2. Write a Python program to find the sum of all items in a dictionary?\n",
    "#3. Write a Python program to Merging two Dictionaries?\n",
    "#4. Write a Python program to convert key-values list to flat dictionary?\n",
    "#5. Write a Python program to insertion at the beginning in OrderedDict?\n",
    "#6. Write a Python program to check order of character in string using OrderedDict()?\n",
    "#7. Write a Python program to sort Python Dictionaries by Key or Value?"
   ]
  },
  {
   "cell_type": "code",
   "execution_count": 3,
   "id": "f73e9ec8",
   "metadata": {},
   "outputs": [
    {
     "name": "stdout",
     "output_type": "stream",
     "text": [
      "Enter the number of pairs in dictionary : 2\n",
      "Enter the key :1\n",
      "Enter Value for key: 2\n",
      "Enter the key :3\n",
      "Enter Value for key: 4\n",
      "The Dictionary Entered is  {1: 2, 3: 4}\n",
      "Unique values in Dictionary are :  {2, 4}\n",
      "The sum of all integer items is :  10\n",
      "Enter the number of pairs in dictionary : 2\n",
      "Enter the key :5\n",
      "Enter Value for key: 6\n",
      "Enter the key :7\n",
      "Enter Value for key: 8\n",
      "The dictionary entered is :  {5: 6, 7: 8}\n",
      "Merged Dictionary is :  {1: 2, 3: 4, 5: 6, 7: 8}\n"
     ]
    }
   ],
   "source": [
    "def inputDict(n):\n",
    "    Dict = dict()\n",
    "    for i in range(n):\n",
    "        k = input(\"Enter the key :\")\n",
    "        if k.isdecimal():\n",
    "            k = int(k)\n",
    "        v = input(\"Enter Value for key: \")\n",
    "        if v.isdecimal():\n",
    "            v = int(v)\n",
    "        Dict[k] = v\n",
    "    return Dict\n",
    "\n",
    "#main\n",
    "n = int(input(\"Enter the number of pairs in dictionary : \"))\n",
    "Dict = inputDict(n)\n",
    "print(\"The Dictionary Entered is \",Dict)\n",
    "\n",
    "#print unique values\n",
    "s = set(Dict.values())\n",
    "print(\"Unique values in Dictionary are : \",s)\n",
    "\n",
    "\n",
    "#sum of items in dictionary\n",
    "sum = 0\n",
    "for i in Dict.keys():\n",
    "    if type(i) == int or type(i) == float:\n",
    "        sum +=i\n",
    "\n",
    "for i in Dict.values():\n",
    "    if type(i) == int or type(i) == float:\n",
    "        sum +=i\n",
    "                \n",
    "print(\"The sum of all integer items is : \",sum)\n",
    "\n",
    "#Merge Dictionaries\n",
    "n1 = int(input(\"Enter the number of pairs in dictionary : \"))\n",
    "Dict2 = inputDict(n1)\n",
    "print(\"The dictionary entered is : \",Dict2)\n",
    "Dict.update(Dict2)\n",
    "print(\"Merged Dictionary is : \",Dict)\n",
    "\n",
    "\n",
    "#sort by key or values\n",
    "choice = input(\"Sort by key or value : (k/v) : \")\n",
    "if(choice.lower() == k or choice.lower == key):\n",
    "    for i in sorted()"
   ]
  },
  {
   "cell_type": "code",
   "execution_count": 7,
   "id": "73f8c0a3",
   "metadata": {},
   "outputs": [
    {
     "name": "stdout",
     "output_type": "stream",
     "text": [
      "Enter number of pairs in dictionary : 2\n",
      "Enter key value : 1\n",
      "Enter key value : 2\n",
      "Enter Value value : 3\n",
      "Enter Value value : 4\n",
      "Entered key and value lists are : keys['1', '2'] values['3', '4']\n",
      "Dictionary is :  {'1': '3', '2': '4'}\n"
     ]
    }
   ],
   "source": [
    "# key values list to flat dictionary\n",
    "\n",
    "n = int(input(\"Enter number of pairs in dictionary : \"))\n",
    "keyy = []\n",
    "valuee = []\n",
    "\n",
    "for i in range(n) :\n",
    "    k = input(\"Enter key value : \")\n",
    "    keyy.append(k)\n",
    "    \n",
    "for j in range(n) :\n",
    "    v = input(\"Enter Value value : \")\n",
    "    valuee.append(v)\n",
    "    \n",
    "Dict = dict()\n",
    "print(\"Entered key and value lists are : keys{} values{}\".format(keyy,valuee))\n",
    "for i in range(n):\n",
    "    Dict[keyy[i]] = valuee[i]\n",
    "    \n",
    "print(\"Dictionary is : \",Dict)"
   ]
  },
  {
   "cell_type": "code",
   "execution_count": 15,
   "id": "05454d2c",
   "metadata": {},
   "outputs": [
    {
     "name": "stdout",
     "output_type": "stream",
     "text": [
      "Enter the number of pairs in dictionary : 2\n",
      "Enter the key :1\n",
      "Enter Value for key : 2\n",
      "Enter the key :3\n",
      "Enter Value for key : 4\n",
      "The Dictionary entered is :  OrderedDict([(1, 2), (3, 4)])\n",
      "Enter new key :5\n",
      "Enter Value for new key : 6\n",
      "{5: 6, 1: 2, 3: 4}\n"
     ]
    }
   ],
   "source": [
    "#insertion at the beginning in OrderedDict\n",
    "\n",
    "from collections import OrderedDict\n",
    "\n",
    "def inputODict(n):\n",
    "    Dict1 = OrderedDict()\n",
    "    for i in range(n):\n",
    "        k = input(\"Enter the key :\")\n",
    "        if k.isdecimal():\n",
    "            k = int(k)\n",
    "        v = input(\"Enter Value for key : \")\n",
    "        if v.isdecimal():\n",
    "            v = int(v)\n",
    "        Dict1[k] = v\n",
    "    return Dict\n",
    "\n",
    "n = int(input(\"Enter the number of pairs in dictionary : \"))\n",
    "Dict1  = inputODict(n)\n",
    "print(\"The Dictionary entered is : \",Dict)\n",
    "\n",
    "k = input(\"Enter new key :\")\n",
    "if k.isdecimal():\n",
    "    k = int(k)\n",
    "v = input(\"Enter Value for new key : \")\n",
    "if v.isdecimal():\n",
    "    v = int(v)\n",
    "\n",
    "Dict2 = dict()\n",
    "Dict2[k]=v\n",
    "Dict2.update(Dict1)\n",
    "print(Dict2)"
   ]
  },
  {
   "cell_type": "code",
   "execution_count": 19,
   "id": "f628c017",
   "metadata": {},
   "outputs": [
    {
     "name": "stdout",
     "output_type": "stream",
     "text": [
      "Enter String : iNeuron Full Stack Bootcamp\n",
      "Enter order of characters : iFSBp\n",
      "The given order of character is correct in  iNeuron Full Stack Bootcamp\n"
     ]
    }
   ],
   "source": [
    "#check order of character in string using OrderedDict()\n",
    "#NehaKeswani\n",
    "#eai\n",
    "\n",
    "from collections import OrderedDict\n",
    "\n",
    "def CheckOrder(check,pattern):\n",
    "    Dict = OrderedDict.fromkeys(check)\n",
    "    ptrnchk = 0\n",
    "    for i in Dict.keys():\n",
    "        if (i==pattern[ptrnchk]):\n",
    "            ptrnchk+=1\n",
    "    if ptrnchk==len(pattern):\n",
    "        return True\n",
    "    else:\n",
    "        return False\n",
    "        \n",
    "\n",
    "#main\n",
    "str1 = input(\"Enter String : \")\n",
    "order = input(\"Enter order of characters : \")\n",
    "result = CheckOrder(str1,order)\n",
    "\n",
    "if result:\n",
    "    print(\"The given order of character is correct in \",str1)\n",
    "else:\n",
    "    print(\"The given order of character is NOT correct in \",str1)"
   ]
  },
  {
   "cell_type": "code",
   "execution_count": 28,
   "id": "3b86e91b",
   "metadata": {},
   "outputs": [
    {
     "name": "stdout",
     "output_type": "stream",
     "text": [
      "Enter the number of pairs in Dictionary : 3\n",
      "Enter the key :1\n",
      "Enter Value for key: 7\n",
      "Enter the key :3\n",
      "Enter Value for key: 5\n",
      "Enter the key :2\n",
      "Enter Value for key: 1\n",
      "{1: 7, 3: 5, 2: 1}\n",
      "Sort by key or value : (k/v) : value\n",
      "{2: 1, 3: 5, 1: 7}\n"
     ]
    }
   ],
   "source": [
    "from operator import itemgetter\n",
    "\n",
    "def inputDict(n):\n",
    "    Dict = dict()\n",
    "    for i in range(n):\n",
    "        k = input(\"Enter the key :\")\n",
    "        if k.isdecimal():\n",
    "            k = int(k)\n",
    "        v = input(\"Enter Value for key: \")\n",
    "        if v.isdecimal():\n",
    "            v = int(v)\n",
    "        Dict[k] = v\n",
    "    return Dict\n",
    "\n",
    "#sort by key or values\n",
    "n = int(input(\"Enter the number of pairs in Dictionary : \"))\n",
    "Dict = inputDict(n)\n",
    "print(Dict)\n",
    "\n",
    "choice = input(\"Sort by key or value : (k/v) : \")\n",
    "if(choice.lower() == 'k' or choice.lower() == 'key'):\n",
    "    Dict_sort_key = dict(sorted(Dict.items(), key=lambda item:item[0]))\n",
    "    print(Dict_sort_key)\n",
    "elif(choice.lower() == 'v' or choice.lower() == 'value'):\n",
    "    Dict_sort_value = dict(sorted(Dict.items(), key=lambda item:item[1]))\n",
    "    print(Dict_sort_value)\n",
    "else:\n",
    "    print(\"Invalid Choice\")\n"
   ]
  },
  {
   "cell_type": "code",
   "execution_count": null,
   "id": "4c338f33",
   "metadata": {},
   "outputs": [],
   "source": []
  }
 ],
 "metadata": {
  "kernelspec": {
   "display_name": "Python 3 (ipykernel)",
   "language": "python",
   "name": "python3"
  },
  "language_info": {
   "codemirror_mode": {
    "name": "ipython",
    "version": 3
   },
   "file_extension": ".py",
   "mimetype": "text/x-python",
   "name": "python",
   "nbconvert_exporter": "python",
   "pygments_lexer": "ipython3",
   "version": "3.9.12"
  }
 },
 "nbformat": 4,
 "nbformat_minor": 5
}
