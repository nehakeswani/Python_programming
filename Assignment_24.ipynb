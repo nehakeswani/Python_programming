{
 "cells": [
  {
   "cell_type": "code",
   "execution_count": null,
   "id": "190275ef",
   "metadata": {},
   "outputs": [],
   "source": [
    "'''Question1\n",
    "Create a function that takes an integer and returns a list from 1 to the given number, where:\n",
    "1. If the number can be divided evenly by 4, amplify it by 10 (i.e. return 10 times the\n",
    "number).\n",
    "2. If the number cannot be divided evenly by 4, simply return the number.'''"
   ]
  },
  {
   "cell_type": "code",
   "execution_count": 5,
   "id": "d814ef6b",
   "metadata": {},
   "outputs": [
    {
     "name": "stdout",
     "output_type": "stream",
     "text": [
      "Enter number : 25\n",
      "[1, 2, 3, 40, 5, 6, 7, 80, 9, 10, 11, 120, 13, 14, 15, 160, 17, 18, 19, 200, 21, 22, 23, 240, 25]\n"
     ]
    }
   ],
   "source": [
    "def amplify(num):\n",
    "    lst = [(i*10) if i%4==0 else i for i in range(1,num+1)]\n",
    "    return lst\n",
    "\n",
    "num  = int(input(\"Enter number : \"))\n",
    "print(amplify(num))"
   ]
  },
  {
   "cell_type": "code",
   "execution_count": null,
   "id": "9c315e05",
   "metadata": {},
   "outputs": [],
   "source": [
    "'''Question2\n",
    "Create a function that takes a list of numbers and return the number that's unique.'''"
   ]
  },
  {
   "cell_type": "code",
   "execution_count": 9,
   "id": "27f49b32",
   "metadata": {},
   "outputs": [
    {
     "name": "stdout",
     "output_type": "stream",
     "text": [
      "Enter list elements : 1 1 1 3 1 1\n",
      "3\n"
     ]
    }
   ],
   "source": [
    "def unique(lst):\n",
    "    lst1 = [i for i in lst if lst.count(i)==1]\n",
    "    return lst1[0]\n",
    "\n",
    "lst = [int(i) for i in input(\"Enter list elements : \").split(\" \")]\n",
    "print(unique(lst))"
   ]
  },
  {
   "cell_type": "code",
   "execution_count": null,
   "id": "b47b947f",
   "metadata": {},
   "outputs": [],
   "source": [
    "'''Question3\n",
    "Your task is to create a Circle constructor that creates a circle with a radius provided by an\n",
    "argument. The circles constructed must have two getters getArea() (PIr^2) and\n",
    "getPerimeter() (2PI*r) which give both respective areas and perimeter (circumference).'''"
   ]
  },
  {
   "cell_type": "code",
   "execution_count": 14,
   "id": "723e3520",
   "metadata": {},
   "outputs": [
    {
     "name": "stdout",
     "output_type": "stream",
     "text": [
      "Enter radius : 4.44\n",
      "61\n",
      "27\n"
     ]
    }
   ],
   "source": [
    "import math\n",
    "\n",
    "class Circle:\n",
    "    def __init__(self,radius,):\n",
    "         self.radius=radius\n",
    "    def getArea(self):\n",
    "        return(math.pi*(self.radius**2))\n",
    "    def getPerimeter(self):\n",
    "        return(2*math.pi*self.radius)\n",
    "\n",
    "num = float(input(\"Enter radius : \"))\n",
    "circy = Circle(num)\n",
    "print(int(circy.getArea()))\n",
    "print(int(circy.getPerimeter()))"
   ]
  },
  {
   "cell_type": "code",
   "execution_count": null,
   "id": "37482fd0",
   "metadata": {},
   "outputs": [],
   "source": [
    "'''Question4\n",
    "Create a function that takes a list of strings and return a list, sorted from shortest to longest.'''"
   ]
  },
  {
   "cell_type": "code",
   "execution_count": 17,
   "id": "10f6f65a",
   "metadata": {},
   "outputs": [
    {
     "name": "stdout",
     "output_type": "stream",
     "text": [
      "Enter list elements : Google,Microsoft,Apple\n",
      "['Apple', 'Google', 'Microsoft']\n"
     ]
    }
   ],
   "source": [
    "def sort_by_length(lst):\n",
    "    return (sorted(lst,key = len))\n",
    "\n",
    "lst = [i for i in input(\"Enter list elements : \").split(\",\")]\n",
    "print(sort_by_length(lst))"
   ]
  },
  {
   "cell_type": "code",
   "execution_count": null,
   "id": "06bd3054",
   "metadata": {},
   "outputs": [],
   "source": [
    "'''Question5\n",
    "Create a function that validates whether three given integers form a Pythagorean triplet. The\n",
    "sum of the squares of the two smallest integers must equal the square of the largest number to\n",
    "be validated.'''"
   ]
  },
  {
   "cell_type": "code",
   "execution_count": 21,
   "id": "00aed898",
   "metadata": {},
   "outputs": [
    {
     "name": "stdout",
     "output_type": "stream",
     "text": [
      "Enter Number : 3,4,5\n",
      "True\n"
     ]
    }
   ],
   "source": [
    "def is_triplet(a,b,c):\n",
    "    if(a**2+b**2==c**2 or a**2+c**2==b**2 or c**2+b**2==a**2):\n",
    "        return True\n",
    "    else:\n",
    "        return False\n",
    "\n",
    "a,b,c = [int(i) for i in (input(\"Enter Number : \").split(\",\"))]\n",
    "print(is_triplet(a,b,c))"
   ]
  },
  {
   "cell_type": "code",
   "execution_count": null,
   "id": "5edbcbf0",
   "metadata": {},
   "outputs": [],
   "source": []
  }
 ],
 "metadata": {
  "kernelspec": {
   "display_name": "Python 3 (ipykernel)",
   "language": "python",
   "name": "python3"
  },
  "language_info": {
   "codemirror_mode": {
    "name": "ipython",
    "version": 3
   },
   "file_extension": ".py",
   "mimetype": "text/x-python",
   "name": "python",
   "nbconvert_exporter": "python",
   "pygments_lexer": "ipython3",
   "version": "3.9.12"
  }
 },
 "nbformat": 4,
 "nbformat_minor": 5
}
