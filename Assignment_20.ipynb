{
 "cells": [
  {
   "cell_type": "code",
   "execution_count": null,
   "id": "ffa6fec8",
   "metadata": {},
   "outputs": [],
   "source": [
    "'''Question1\n",
    "Create a function that takes a list of strings and integers, and filters out the list so that it\n",
    "returns a list of integers only.'''"
   ]
  },
  {
   "cell_type": "code",
   "execution_count": 1,
   "id": "6dd1a0b7",
   "metadata": {},
   "outputs": [
    {
     "name": "stdout",
     "output_type": "stream",
     "text": [
      "Enter number of element of list : 2\n",
      "Enter the element 1 of list Nothing\n",
      "Enter the element 2 of list Here\n",
      "[]\n"
     ]
    }
   ],
   "source": [
    "def filter_list(mix_list):\n",
    "    result = [x for x in mix_list if type(x)==int]\n",
    "    return result\n",
    "\n",
    "a = int(input(\"Enter number of element of list : \"))\n",
    "mix_list = []\n",
    "for i in range(a):\n",
    "    temp = input(\"Enter the element {} of list \".format(i+1))\n",
    "    try:\n",
    "        mix_list.append(int(temp))\n",
    "    except ValueError:\n",
    "        mix_list.append(temp)\n",
    "print(filter_list(mix_list))"
   ]
  },
  {
   "cell_type": "code",
   "execution_count": null,
   "id": "440a1c56",
   "metadata": {},
   "outputs": [],
   "source": [
    "'''Question2\n",
    "Given a list of numbers, create a function which returns the list but with each element's\n",
    "index in the list added to itself. This means you add 0 to the number at index 0, add 1 to the\n",
    "number at index 1, etc...'''"
   ]
  },
  {
   "cell_type": "code",
   "execution_count": 2,
   "id": "1d666ef9",
   "metadata": {},
   "outputs": [
    {
     "name": "stdout",
     "output_type": "stream",
     "text": [
      "Enter list : 1 2 3 4 5\n",
      "[1, 3, 5, 7, 9]\n"
     ]
    }
   ],
   "source": [
    "def add_indexes(lst):\n",
    "    result = [x+lst[x] for x in range(len(lst))]\n",
    "    return result\n",
    "\n",
    "lst = [int(x) for x in input(\"Enter list : \").split(\" \")]\n",
    "print(add_indexes(lst))"
   ]
  },
  {
   "cell_type": "code",
   "execution_count": null,
   "id": "32207fef",
   "metadata": {},
   "outputs": [],
   "source": [
    "'''Question3\n",
    "Create a function that takes the height and radius of a cone as arguments and returns the\n",
    "volume of the cone rounded to the nearest hundredth. See the resources tab for the formula.\n",
    "volumen = 1/3 pi r^2 h'''"
   ]
  },
  {
   "cell_type": "code",
   "execution_count": 8,
   "id": "b49e6050",
   "metadata": {},
   "outputs": [
    {
     "name": "stdout",
     "output_type": "stream",
     "text": [
      "Enter height of cone : 15\n",
      "Enter radius of cone : 6\n",
      "565.49\n"
     ]
    }
   ],
   "source": [
    "import math\n",
    "def cone_volume(h,r):\n",
    "    C = (1/3)*math.pi\n",
    "    return(C*h*(r**2))\n",
    "\n",
    "h = int(input(\"Enter height of cone : \"))\n",
    "r = int(input(\"Enter radius of cone : \"))\n",
    "print('%.2f'%cone_volume(h,r))"
   ]
  },
  {
   "cell_type": "code",
   "execution_count": null,
   "id": "d4407a32",
   "metadata": {},
   "outputs": [],
   "source": [
    "'''Question4\n",
    "This Triangular Number Sequence is generated from a pattern of dots that form a triangle.\n",
    "The first 5 numbers of the sequence, or dots, are:\n",
    "1, 3, 6, 10, 15\n",
    "This means that the first triangle has just one dot, the second one has three dots, the third one\n",
    "has 6 dots and so on.\n",
    "Write a function that gives the number of dots with its corresponding triangle number of the\n",
    "sequence.\n",
    "n(n+1)/2'''"
   ]
  },
  {
   "cell_type": "code",
   "execution_count": 10,
   "id": "ba604b69",
   "metadata": {},
   "outputs": [
    {
     "name": "stdout",
     "output_type": "stream",
     "text": [
      "Enter triangle number : 6\n",
      "21\n"
     ]
    }
   ],
   "source": [
    "def triangle(num):\n",
    "    return int(num*(num+1)/2)\n",
    "\n",
    "num = int(input(\"Enter triangle number : \"))\n",
    "print(triangle(num))"
   ]
  },
  {
   "cell_type": "code",
   "execution_count": null,
   "id": "684f50c4",
   "metadata": {},
   "outputs": [],
   "source": [
    "'''Question5\n",
    "Create a function that takes a list of numbers between 1 and 10 (excluding one number) and\n",
    "returns the missing number.'''"
   ]
  },
  {
   "cell_type": "code",
   "execution_count": 16,
   "id": "eb5d6d6d",
   "metadata": {},
   "outputs": [
    {
     "name": "stdout",
     "output_type": "stream",
     "text": [
      "Enter list 1 2 3 4 6 7 9 8 10\n",
      "5\n"
     ]
    }
   ],
   "source": [
    "def missing_num(lst):\n",
    "    lst = set(lst)\n",
    "    check_list = {1,2,3,4,5,6,7,8,9,10}\n",
    "    x = check_list.difference(lst)\n",
    "    return x\n",
    "\n",
    "lst  = [int(i) for i in input(\"Enter list \").split(\" \")]\n",
    "x = missing_num(lst)\n",
    "for i in x:\n",
    "    print (i)"
   ]
  },
  {
   "cell_type": "code",
   "execution_count": null,
   "id": "43542128",
   "metadata": {},
   "outputs": [],
   "source": []
  }
 ],
 "metadata": {
  "kernelspec": {
   "display_name": "Python 3 (ipykernel)",
   "language": "python",
   "name": "python3"
  },
  "language_info": {
   "codemirror_mode": {
    "name": "ipython",
    "version": 3
   },
   "file_extension": ".py",
   "mimetype": "text/x-python",
   "name": "python",
   "nbconvert_exporter": "python",
   "pygments_lexer": "ipython3",
   "version": "3.9.12"
  }
 },
 "nbformat": 4,
 "nbformat_minor": 5
}
