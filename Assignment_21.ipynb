{
 "cells": [
  {
   "cell_type": "code",
   "execution_count": null,
   "id": "65d2fa78",
   "metadata": {},
   "outputs": [],
   "source": [
    "'''Question1\n",
    "Write a function that takes a list and a number as arguments. Add the number to the end of\n",
    "the list, then remove the first element of the list. The function should then return the updated\n",
    "list.'''"
   ]
  },
  {
   "cell_type": "code",
   "execution_count": 2,
   "id": "0b4fb7b6",
   "metadata": {},
   "outputs": [
    {
     "name": "stdout",
     "output_type": "stream",
     "text": [
      "Enter elements of list : 1 2 3 4 6 7\n",
      "Enter number to be added : 4\n",
      "[2, 3, 4, 6, 7, 4]\n"
     ]
    }
   ],
   "source": [
    "def next_in_line(lst,element):\n",
    "    lst.append(element)\n",
    "    lst.pop(0)\n",
    "    return lst\n",
    "\n",
    "lst = [int(x) for x in input(\"Enter elements of list : \").split(\" \")]\n",
    "element = int(input(\"Enter number to be added : \"))\n",
    "print(next_in_line(lst,element))"
   ]
  },
  {
   "cell_type": "code",
   "execution_count": null,
   "id": "805d7190",
   "metadata": {},
   "outputs": [],
   "source": [
    "'''Question2\n",
    "Create the function that takes a list of dictionaries and returns the sum of people's budgets.'''"
   ]
  },
  {
   "cell_type": "code",
   "execution_count": 6,
   "id": "732cfe42",
   "metadata": {},
   "outputs": [
    {
     "name": "stdout",
     "output_type": "stream",
     "text": [
      "Enter number of dictionaries : 3\n",
      "Enter Name : neha\n",
      "Enter Age : 27\n",
      "Enter Budget : 25000\n",
      "Enter Name : rohit\n",
      "Enter Age : 29\n",
      "Enter Budget : 30000\n",
      "Enter Name : sid\n",
      "Enter Age : 23\n",
      "Enter Budget : 50000\n",
      "105000\n"
     ]
    }
   ],
   "source": [
    "def get_budgets(dict_list):\n",
    "    sum = 0\n",
    "    for i in dict_list:\n",
    "        sum += i['budget']\n",
    "    return sum\n",
    "\n",
    "def input_dict():\n",
    "    temp_dict = dict()\n",
    "    temp_dict['name'] = input(\"Enter Name : \")\n",
    "    temp_dict['age'] = int(input(\"Enter Age : \"))\n",
    "    temp_dict['budget'] = int(input(\"Enter Budget : \"))\n",
    "    return temp_dict\n",
    "\n",
    "n = int(input(\"Enter number of dictionaries : \"))\n",
    "lst = []\n",
    "for i in range(n):\n",
    "    lst.append(input_dict())\n",
    "print(get_budgets(lst))"
   ]
  },
  {
   "cell_type": "code",
   "execution_count": null,
   "id": "1c618238",
   "metadata": {},
   "outputs": [],
   "source": [
    "'''Question3\n",
    "Create a function that takes a string and returns a string with its letters in alphabetical order.'''"
   ]
  },
  {
   "cell_type": "code",
   "execution_count": 10,
   "id": "02171bc3",
   "metadata": {},
   "outputs": [
    {
     "name": "stdout",
     "output_type": "stream",
     "text": [
      "Enter String : Hello\n",
      "ehllo\n"
     ]
    }
   ],
   "source": [
    "def alphabet_soup(string):\n",
    "    return (\"\".join(sorted(string.lower())))\n",
    "    \n",
    "string = input(\"Enter String : \")\n",
    "print(alphabet_soup(string))"
   ]
  },
  {
   "cell_type": "code",
   "execution_count": null,
   "id": "b6df4c4c",
   "metadata": {},
   "outputs": [],
   "source": [
    "'''Question4\n",
    "Suppose that you invest $10,000 for 10 years at an interest rate of 6% compounded monthly.\n",
    "What will be the value of your investment at the end of the 10 year period?\n",
    "Create a function that accepts the principal p, the term in years t, the interest rate r, and the\n",
    "number of compounding periods per year n. The function returns the value at the end of term\n",
    "rounded to the nearest cent.\n",
    "CI+p = p(1+r/n)^nt'''"
   ]
  },
  {
   "cell_type": "code",
   "execution_count": 18,
   "id": "bc5e0e3d",
   "metadata": {},
   "outputs": [
    {
     "name": "stdout",
     "output_type": "stream",
     "text": [
      "Principal : 3500\n",
      "Term in years : 15\n",
      "Interest rate : 0.1\n",
      "Compounding period per year : 4\n",
      "15399.26\n"
     ]
    }
   ],
   "source": [
    "def compound_interest(p,t,r,n):\n",
    "    return(p*(1+(r/n))**(n*t))\n",
    "\n",
    "def input_values():\n",
    "    p = int(input(\"Principal : \"))\n",
    "    t = int(input(\"Term in years : \"))\n",
    "    r = float(input(\"Interest rate : \"))\n",
    "    n = int(input(\"Compounding period per year : \"))\n",
    "    return p,t,r,n\n",
    "\n",
    "p,t,r,n = input_values()\n",
    "print('%.2f'%compound_interest(p,t,r,n))"
   ]
  },
  {
   "cell_type": "code",
   "execution_count": null,
   "id": "7225bc52",
   "metadata": {},
   "outputs": [],
   "source": [
    "'''Question5\n",
    "Write a function that takes a list of elements and returns only the integers.'''"
   ]
  },
  {
   "cell_type": "code",
   "execution_count": 20,
   "id": "39e72526",
   "metadata": {},
   "outputs": [
    {
     "name": "stdout",
     "output_type": "stream",
     "text": [
      "Enter number of element of list : 5\n",
      "Enter the element 1 of list 9\n",
      "Enter the element 2 of list 15\n",
      "Enter the element 3 of list space\n",
      "Enter the element 4 of list car\n",
      "Enter the element 5 of list 34\n",
      "[9, 15, 34]\n"
     ]
    }
   ],
   "source": [
    "def return_only_integers(mix_list):\n",
    "    result = [x for x in mix_list if type(x)==int]\n",
    "    return result\n",
    "\n",
    "a = int(input(\"Enter number of element of list : \"))\n",
    "mix_list = []\n",
    "for i in range(a):\n",
    "    temp = input(\"Enter the element {} of list \".format(i+1))\n",
    "    try:\n",
    "        mix_list.append(int(temp))\n",
    "    except ValueError:\n",
    "        mix_list.append(temp)\n",
    "print(return_only_integers(mix_list))"
   ]
  },
  {
   "cell_type": "code",
   "execution_count": null,
   "id": "f4cd0712",
   "metadata": {},
   "outputs": [],
   "source": []
  }
 ],
 "metadata": {
  "kernelspec": {
   "display_name": "Python 3 (ipykernel)",
   "language": "python",
   "name": "python3"
  },
  "language_info": {
   "codemirror_mode": {
    "name": "ipython",
    "version": 3
   },
   "file_extension": ".py",
   "mimetype": "text/x-python",
   "name": "python",
   "nbconvert_exporter": "python",
   "pygments_lexer": "ipython3",
   "version": "3.9.12"
  }
 },
 "nbformat": 4,
 "nbformat_minor": 5
}
