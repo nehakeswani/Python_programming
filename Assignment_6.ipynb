{
 "cells": [
  {
   "cell_type": "code",
   "execution_count": 7,
   "id": "1903fe50",
   "metadata": {},
   "outputs": [
    {
     "name": "stdout",
     "output_type": "stream",
     "text": [
      "Enter a number : 7\n",
      "Fibbonaci series for 7 numbers is [0, 1, 1, 2, 3, 5, 8]\n"
     ]
    }
   ],
   "source": [
    "#1. Write a Python Program to Display Fibonacci Sequence Using Recursion?\n",
    "#[0, 1, 1, 2, 3, 5, 8, 13, 21]\n",
    "\n",
    "def fibFunc(n):\n",
    "    if n==0:\n",
    "        return 0\n",
    "    elif n==1:\n",
    "        return 1\n",
    "    elif n>1:\n",
    "        return(fibFunc(n-1)+fibFunc(n-2))\n",
    "\n",
    "\n",
    "num = int(input(\"Enter a number : \"))\n",
    "series = []\n",
    "for i in range (num):\n",
    "    series.append(fibFunc(i))\n",
    "print(\"Fibbonaci series for {} numbers is {}\".format(num,series))"
   ]
  },
  {
   "cell_type": "code",
   "execution_count": 11,
   "id": "7efadb96",
   "metadata": {},
   "outputs": [
    {
     "name": "stdout",
     "output_type": "stream",
     "text": [
      "Enter a number : 5\n",
      "The Factorial of 5 is 120\n"
     ]
    }
   ],
   "source": [
    "#2. Write a Python Program to Find Factorial of Number Using Recursion?\n",
    "\n",
    "def Factorial(n):\n",
    "    if n == 0 or n==1:\n",
    "        return 1\n",
    "    elif n>1:\n",
    "        return (n*Factorial(n-1))\n",
    "    \n",
    "num = int(input(\"Enter a number : \"))\n",
    "print(\"The Factorial of {} is {}\".format(num,Factorial(num)))\n"
   ]
  },
  {
   "cell_type": "code",
   "execution_count": 13,
   "id": "045d1dd8",
   "metadata": {},
   "outputs": [
    {
     "name": "stdout",
     "output_type": "stream",
     "text": [
      "Enter Weight in kg : 75\n",
      "Enter Height in m : 1.65\n",
      "Yout BMI is 27.55\n"
     ]
    }
   ],
   "source": [
    "#3. Write a Python Program to calculate your Body Mass Index?\n",
    "\n",
    "def BMI(w,h):\n",
    "    return (w/(h*h))\n",
    "\n",
    "wgt = float(input(\"Enter Weight in kg : \"))\n",
    "hgt = float(input(\"Enter Height in m : \"))\n",
    "\n",
    "print(\"Yout BMI is {:.2f}\".format(BMI(wgt,hgt)))"
   ]
  },
  {
   "cell_type": "code",
   "execution_count": 16,
   "id": "0412ff20",
   "metadata": {},
   "outputs": [
    {
     "name": "stdout",
     "output_type": "stream",
     "text": [
      "Enter a number : 10\n",
      "The Natural log of 10 is 2.303\n"
     ]
    }
   ],
   "source": [
    "#4. Write a Python Program to calculate the natural logarithm of any number?\n",
    "#math.log(num,base)\n",
    "\n",
    "import math\n",
    "\n",
    "num = int(input(\"Enter a number : \"))\n",
    "print(\"The Natural log of {} is {:.3f}\".format(num,math.log(num)))"
   ]
  },
  {
   "cell_type": "code",
   "execution_count": 25,
   "id": "c73e7282",
   "metadata": {},
   "outputs": [
    {
     "name": "stdout",
     "output_type": "stream",
     "text": [
      "Enter a number : 12\n",
      "6084\n"
     ]
    }
   ],
   "source": [
    "#5. Write a Python Program for cube sum of first n natural numbers?\n",
    "\n",
    "\n",
    "n = int(input(\"Enter a number : \"))\n",
    "\n",
    "sum = (n*(n+1)/2)**2\n",
    "\n",
    "print(int(sum))"
   ]
  },
  {
   "cell_type": "code",
   "execution_count": null,
   "id": "c8af76bf",
   "metadata": {},
   "outputs": [],
   "source": []
  }
 ],
 "metadata": {
  "kernelspec": {
   "display_name": "Python 3 (ipykernel)",
   "language": "python",
   "name": "python3"
  },
  "language_info": {
   "codemirror_mode": {
    "name": "ipython",
    "version": 3
   },
   "file_extension": ".py",
   "mimetype": "text/x-python",
   "name": "python",
   "nbconvert_exporter": "python",
   "pygments_lexer": "ipython3",
   "version": "3.9.12"
  }
 },
 "nbformat": 4,
 "nbformat_minor": 5
}
