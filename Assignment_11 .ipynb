{
 "cells": [
  {
   "cell_type": "code",
   "execution_count": 1,
   "id": "2770ac67",
   "metadata": {},
   "outputs": [],
   "source": [
    "#1. Write a Python program to find words which are greater than given length k?\n",
    "#2. Write a Python program for removing i-th character from a string?\n",
    "#3. Write a Python program to split and join a string?\n",
    "#4. Write a Python to check if a given string is binary string or not?\n",
    "#5. Write a Python program to find uncommon words from two Strings?\n",
    "#6. Write a Python to find all duplicate characters in string?\n",
    "#7. Write a Python Program to check if a string contains any special character?"
   ]
  },
  {
   "cell_type": "code",
   "execution_count": 1,
   "id": "4d5599ce",
   "metadata": {},
   "outputs": [
    {
     "name": "stdout",
     "output_type": "stream",
     "text": [
      "Enter a string : Neha Keswani b723ui8^%&@^(*U Neha u78niuq\n",
      "Enter value of k : 7\n",
      "Words greater than 7 are : ['b723ui8^%&@^(*U']\n",
      "\n",
      "Enter position of character to be removed : 8\n",
      "Neh Keswani b723ui8^%&@^(*U Neha u78niuq\n",
      "\n",
      "Splitted String is :  ['Neha', 'Keswani', 'b723ui8^%&@^(*U', 'Neha', 'u78niuq']\n",
      "Joined String is :  Neha Keswani b723ui8^%&@^(*U Neha u78niuq\n",
      "\n",
      "String is not Binary\n",
      "\n",
      "Enter string to match duplicate : Neha K237y&! b73h &!Y!(Bhjoi\n",
      "Words not common between both strings are :  ['Keswani', 'b723ui8^%&@^(*U', 'u78niuq', 'K237y&!', 'b73h', '&!Y!(Bhjoi']\n",
      "\n",
      "Characters more than once in original string are :  [' ' '7' '8' 'N' '^' 'a' 'e' 'h' 'i' 'n' 'u']\n",
      "\n",
      "List contains Special characters :  ['^', '%', '&', '@', '^', '(', '*']\n"
     ]
    }
   ],
   "source": [
    "import string\n",
    "import numpy as np\n",
    "\n",
    "st = str(input(\"Enter a string : \"))\n",
    "stList = st.split()\n",
    "\n",
    "k = int(input(\"Enter value of k : \"))\n",
    "stWords = [i for i in stList if len(i)>k]\n",
    "print(\"Words greater than {} are : {}\".format(k,stWords))\n",
    "print()\n",
    "\n",
    "ith = int(input(\"Enter position of character to be removed : \"))\n",
    "st1 = st.replace(st[ith+1],'',1)\n",
    "print(st1)\n",
    "print()\n",
    "\n",
    "stSplit = st.split()\n",
    "print(\"Splitted String is : \",stSplit)\n",
    "stJoin = ' '.join(stSplit)\n",
    "print(\"Joined String is : \",stJoin)\n",
    "print()\n",
    "\n",
    "bi = list((0,1))\n",
    "if all(i in bi for i in st):\n",
    "    print(\"String is Binary\")\n",
    "else:\n",
    "    print(\"String is not Binary\")\n",
    "print()\n",
    "\n",
    "st2 = str(input(\"Enter string to match duplicate : \"))\n",
    "st2List = st2.split()\n",
    "ss = [i for i in stList if i not in st2List]\n",
    "ss1 = [i for i in st2List if i not in stList]\n",
    "ss.extend(ss1)\n",
    "print(\"Words not common between both strings are : \",ss)\n",
    "print()\n",
    "\n",
    "duplChars = [i for i in st if st.count(i)>1]\n",
    "print(\"Characters more than once in original string are : \",np.unique(duplChars))\n",
    "print()\n",
    "\n",
    "spcl = string.punctuation\n",
    "sp = [i for i in st if i in spcl]\n",
    "if (len(sp)>0):\n",
    "    print(\"List contains Special characters : \",sp)\n",
    "else:\n",
    "    print(\"List doesnot contaion any special characters\")\n"
   ]
  },
  {
   "cell_type": "code",
   "execution_count": null,
   "id": "4840e0fc",
   "metadata": {},
   "outputs": [],
   "source": []
  }
 ],
 "metadata": {
  "kernelspec": {
   "display_name": "Python 3 (ipykernel)",
   "language": "python",
   "name": "python3"
  },
  "language_info": {
   "codemirror_mode": {
    "name": "ipython",
    "version": 3
   },
   "file_extension": ".py",
   "mimetype": "text/x-python",
   "name": "python",
   "nbconvert_exporter": "python",
   "pygments_lexer": "ipython3",
   "version": "3.9.12"
  }
 },
 "nbformat": 4,
 "nbformat_minor": 5
}
