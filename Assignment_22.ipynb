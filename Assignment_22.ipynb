{
 "cells": [
  {
   "cell_type": "code",
   "execution_count": null,
   "id": "27d824ff",
   "metadata": {},
   "outputs": [],
   "source": [
    "'''Question1\n",
    "Create a function that takes three parameters where:\n",
    " x is the start of the range (inclusive).\n",
    " y is the end of the range (inclusive).\n",
    " n is the divisor to be checked against.\n",
    "Return an ordered list with numbers in the range that are divisible by the third parameter n.\n",
    "Return an empty list if there are no numbers that are divisible by n.'''"
   ]
  },
  {
   "cell_type": "code",
   "execution_count": 3,
   "id": "8866512b",
   "metadata": {},
   "outputs": [
    {
     "name": "stdout",
     "output_type": "stream",
     "text": [
      "Enter values of x, y and n : 15 20 7\n",
      "[]\n"
     ]
    }
   ],
   "source": [
    "def list_operation(x,y,n):\n",
    "    result = [i for i in range(x,y+1) if i%n==0]\n",
    "    return result\n",
    "\n",
    "x,y,n = [int(i) for i in input(\"Enter values of x, y and n : \").split(\" \")]\n",
    "print(list_operation(x,y,n))"
   ]
  },
  {
   "cell_type": "code",
   "execution_count": null,
   "id": "d81392a5",
   "metadata": {},
   "outputs": [],
   "source": [
    "'''Question2\n",
    "Create a function that takes in two lists and returns True if the second list follows the first list\n",
    "by one element, and False otherwise. In other words, determine if the second list is the first\n",
    "list shifted to the right by 1.'''"
   ]
  },
  {
   "cell_type": "code",
   "execution_count": 5,
   "id": "baadf27f",
   "metadata": {},
   "outputs": [
    {
     "name": "stdout",
     "output_type": "stream",
     "text": [
      "Enter element of list1  : 1 2 3 4 5\n",
      "Enter element of list2  : 5 5 1 2 3\n",
      "False\n"
     ]
    }
   ],
   "source": [
    "def simon_says(lst1,lst2):\n",
    "    n = len(lst1)\n",
    "    for i in range(0,n-1):\n",
    "        if lst1[i]!=lst2[i+1]:\n",
    "            return False\n",
    "        else:\n",
    "            continue\n",
    "    return True\n",
    "\n",
    "lst1 = [int(x) for x in input(\"Enter element of list1  : \").split(\" \")]\n",
    "lst2 = [int(x) for x in input(\"Enter element of list2  : \").split(\" \")]\n",
    "print(simon_says(lst1,lst2))"
   ]
  },
  {
   "cell_type": "code",
   "execution_count": null,
   "id": "3feee890",
   "metadata": {},
   "outputs": [],
   "source": [
    "'''Question3\n",
    "A group of friends have decided to start a secret society. The name will be the first letter of\n",
    "each of their names, sorted in alphabetical order.\n",
    "Create a function that takes in a list of names and returns the name of the secret society.'''"
   ]
  },
  {
   "cell_type": "code",
   "execution_count": 7,
   "id": "1d8aac01",
   "metadata": {},
   "outputs": [
    {
     "name": "stdout",
     "output_type": "stream",
     "text": [
      "Enter names : Chandler Monica Rachel Phoebe Joey\n",
      "CMRPJ\n"
     ]
    }
   ],
   "source": [
    "def society_name(name_list):\n",
    "    result = []\n",
    "    for i in name_list:\n",
    "        result.append(i[:1])\n",
    "    return(\"\".join(result))\n",
    "\n",
    "name_list = [x for x in input(\"Enter names : \").split(\" \")]\n",
    "print(society_name(name_list))"
   ]
  },
  {
   "cell_type": "code",
   "execution_count": null,
   "id": "874c2ab0",
   "metadata": {},
   "outputs": [],
   "source": [
    "'''An isogram is a word that has no duplicate letters. Create a function that takes a string and\n",
    "returns either True or False depending on whether or not it's an \"isogram\".'''"
   ]
  },
  {
   "cell_type": "code",
   "execution_count": 11,
   "id": "7136e8fe",
   "metadata": {},
   "outputs": [
    {
     "name": "stdout",
     "output_type": "stream",
     "text": [
      "Enter word : pasSword\n",
      "False\n"
     ]
    }
   ],
   "source": [
    "def is_isogram(word):\n",
    "    word = word.lower()\n",
    "    dict_word = []\n",
    "    for i in word:\n",
    "        dict_word.append(i)\n",
    "    set_word = set(dict_word)\n",
    "    list_word = list(set_word)\n",
    "    if(len(list_word)==len(dict_word)):\n",
    "        return True\n",
    "    else:\n",
    "        return False\n",
    "    \n",
    "word = input(\"Enter word : \")\n",
    "print(is_isogram(word))"
   ]
  },
  {
   "cell_type": "code",
   "execution_count": null,
   "id": "edbda0c6",
   "metadata": {},
   "outputs": [],
   "source": [
    "'''Question5\n",
    "Create a function that takes a string and returns True or False, depending on whether the\n",
    "characters are in order or not.'''"
   ]
  },
  {
   "cell_type": "code",
   "execution_count": 21,
   "id": "4d2d5d6c",
   "metadata": {},
   "outputs": [
    {
     "name": "stdout",
     "output_type": "stream",
     "text": [
      "Enter word : edabit\n",
      "False\n"
     ]
    }
   ],
   "source": [
    "def is_in_order(word):\n",
    "    if word == (\"\".join(sorted(word))):\n",
    "        return True\n",
    "    else:\n",
    "        return False\n",
    "\n",
    "word = input(\"Enter word : \")\n",
    "print(is_in_order(word))"
   ]
  },
  {
   "cell_type": "code",
   "execution_count": null,
   "id": "fb0af19e",
   "metadata": {},
   "outputs": [],
   "source": []
  }
 ],
 "metadata": {
  "kernelspec": {
   "display_name": "Python 3 (ipykernel)",
   "language": "python",
   "name": "python3"
  },
  "language_info": {
   "codemirror_mode": {
    "name": "ipython",
    "version": 3
   },
   "file_extension": ".py",
   "mimetype": "text/x-python",
   "name": "python",
   "nbconvert_exporter": "python",
   "pygments_lexer": "ipython3",
   "version": "3.9.12"
  }
 },
 "nbformat": 4,
 "nbformat_minor": 5
}
