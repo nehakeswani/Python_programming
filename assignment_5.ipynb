{
 "cells": [
  {
   "cell_type": "code",
   "execution_count": 21,
   "id": "f770fae5",
   "metadata": {},
   "outputs": [
    {
     "name": "stdout",
     "output_type": "stream",
     "text": [
      "Enter numbers to find LCM : 10 50 30\n",
      "150\n"
     ]
    }
   ],
   "source": [
    "#1.\tWrite a Python Program to Find LCM?\n",
    "\n",
    "import numpy as np\n",
    "\n",
    "n = [int (n) for n in input(\"Enter numbers to find LCM : \").split()]\n",
    "\n",
    "m = max(n)\n",
    "p = np.prod(n)/m\n",
    "\n",
    "i=1\n",
    "while i<=p:\n",
    "    br =0\n",
    "    check = m*i\n",
    "    for j in n:\n",
    "        if(check%j != 0):\n",
    "            br+=1\n",
    "            break\n",
    "    if(br==0):\n",
    "        print(check)\n",
    "        break\n",
    "    i+=1\n",
    "    "
   ]
  },
  {
   "cell_type": "code",
   "execution_count": 14,
   "id": "269c8f61",
   "metadata": {},
   "outputs": [
    {
     "name": "stdout",
     "output_type": "stream",
     "text": [
      "Enter numbers to find HCF : 100 50 20\n",
      "10\n"
     ]
    }
   ],
   "source": [
    "#2.\tWrite a Python Program to Find HCF?\n",
    "\n",
    "import numpy as np\n",
    "\n",
    "n = [int (n) for n in input(\"Enter numbers to find HCF : \").split()]\n",
    "\n",
    "m = max(n)\n",
    "p = np.prod(n)\n",
    "\n",
    "i=int(p)\n",
    "while i>=1:\n",
    "    br=0\n",
    "    for j in n:\n",
    "        if((j%i)!= 0):\n",
    "            br+=1\n",
    "            break\n",
    "    if br==0:\n",
    "        print(i)\n",
    "        break\n",
    "    i-=1"
   ]
  },
  {
   "cell_type": "code",
   "execution_count": 25,
   "id": "74ead6d0",
   "metadata": {},
   "outputs": [
    {
     "name": "stdout",
     "output_type": "stream",
     "text": [
      "Enter a number : 100\n",
      "Hexadecimal of 100 is : 64\n",
      "Octal of 100 is : 144\n",
      "Binary of 100 is : 1100100\n"
     ]
    }
   ],
   "source": [
    "#3.\tWrite a Python Program to Convert Decimal to Binary, Octal and Hexadecimal?\n",
    "\n",
    "n = int(input(\"Enter a number : \"))\n",
    "\n",
    "print(\"Hexadecimal of {} is : {}\".format(n,hex(n)[2::1]))\n",
    "print(\"Octal of {} is : {}\".format(n,oct(n)[2::1]))\n",
    "print(\"Binary of {} is : {}\".format(n,bin(n)[2::1]))"
   ]
  },
  {
   "cell_type": "code",
   "execution_count": 30,
   "id": "3fadfa20",
   "metadata": {},
   "outputs": [
    {
     "name": "stdout",
     "output_type": "stream",
     "text": [
      "Enter a character : i\n",
      "105\n"
     ]
    }
   ],
   "source": [
    "#4.\tWrite a Python Program To Find ASCII value of a character?\n",
    "\n",
    "n = (input(\"Enter a character : \"))\n",
    "\n",
    "print(ord(n))"
   ]
  },
  {
   "cell_type": "code",
   "execution_count": 14,
   "id": "5d9a1d63",
   "metadata": {},
   "outputs": [
    {
     "name": "stdout",
     "output_type": "stream",
     "text": [
      "Enter a selection from 1-4 : \n",
      "1. Addition\n",
      "2. Subtraction\n",
      "3. Multiplication\n",
      "4. Division\n",
      "4\n",
      "Enter number : 56\n",
      "Enter number : 6\n",
      "56 divided by 6 = 9.33\n"
     ]
    }
   ],
   "source": [
    "#5.\tWrite a Python Program to Make a Simple Calculator with 4 basic mathematical operations?\n",
    "\n",
    "import numpy as np\n",
    "\n",
    "def addition(l):\n",
    "    print(\"The sum of {} is : {}\".format(l,np.sum(l)))\n",
    "    \n",
    "def subtract(l):\n",
    "    res = l[1]-l[0]\n",
    "    print(\"{} - {} = {}\".format(l[1],l[0],res))\n",
    "    \n",
    "def multiplication(l):\n",
    "    print(\"The product of {} is : {}\".format(l,np.prod(l)))\n",
    "    \n",
    "def division(l):\n",
    "    res = float(l[0]/l[1])\n",
    "    print(\"{} divided by {} = {:.2f}\".format(l[0],l[1],res))\n",
    "    \n",
    "option = int(input('''Enter a selection from 1-4 : \n",
    "1. Addition\n",
    "2. Subtraction\n",
    "3. Multiplication\n",
    "4. Division\n",
    "'''))\n",
    "\n",
    "if option == 1 or option == 3:\n",
    "    n = []\n",
    "    while True:\n",
    "        num = (input(\"Enter number : \"))\n",
    "        if not num:\n",
    "            break\n",
    "        n.append(int(num))\n",
    "\n",
    "    if option == 1 :\n",
    "        addition(n)\n",
    "    elif option == 3:\n",
    "        multiplication(n)\n",
    "    \n",
    "elif option == 2 or option == 4:\n",
    "    n = []\n",
    "    for i in range (2):\n",
    "        num = (input(\"Enter number : \"))\n",
    "        n.append(int(num))\n",
    "        \n",
    "    if option ==2:\n",
    "        subtract(n)\n",
    "    elif option == 4:\n",
    "        division(n)\n",
    "else:\n",
    "    print(\"wrong input\")"
   ]
  },
  {
   "cell_type": "code",
   "execution_count": null,
   "id": "0255f510",
   "metadata": {},
   "outputs": [],
   "source": []
  }
 ],
 "metadata": {
  "kernelspec": {
   "display_name": "Python 3 (ipykernel)",
   "language": "python",
   "name": "python3"
  },
  "language_info": {
   "codemirror_mode": {
    "name": "ipython",
    "version": 3
   },
   "file_extension": ".py",
   "mimetype": "text/x-python",
   "name": "python",
   "nbconvert_exporter": "python",
   "pygments_lexer": "ipython3",
   "version": "3.9.12"
  }
 },
 "nbformat": 4,
 "nbformat_minor": 5
}
