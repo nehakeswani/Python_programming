{
 "cells": [
  {
   "cell_type": "code",
   "execution_count": 9,
   "id": "1ca20eb7",
   "metadata": {},
   "outputs": [
    {
     "name": "stdout",
     "output_type": "stream",
     "text": [
      "Enter a number : 9\n",
      "The factorial of 9 is 362880\n"
     ]
    }
   ],
   "source": [
    "#1.\tWrite a Python Program to Find the Factorial of a Number?\n",
    "\n",
    "import math\n",
    "\n",
    "n = int(input(\"Enter a number : \"))\n",
    "\n",
    "if n>0:\n",
    "    fact = math.factorial(n)\n",
    "else:\n",
    "    raise Exception(\"The number cannot be negative\")\n",
    "\n",
    "print(\"The factorial of {} is {}\".format(n,fact))"
   ]
  },
  {
   "cell_type": "code",
   "execution_count": 14,
   "id": "2bd1b823",
   "metadata": {},
   "outputs": [
    {
     "name": "stdout",
     "output_type": "stream",
     "text": [
      "Enter a number : 7\n",
      "7 x 1 = 7\n",
      "7 x 2 = 14\n",
      "7 x 3 = 21\n",
      "7 x 4 = 28\n",
      "7 x 5 = 35\n",
      "7 x 6 = 42\n",
      "7 x 7 = 49\n",
      "7 x 8 = 56\n",
      "7 x 9 = 63\n",
      "7 x 10 = 70\n"
     ]
    }
   ],
   "source": [
    "#2.\tWrite a Python Program to Display the multiplication Table?\n",
    "\n",
    "n = int(input(\"Enter a number : \"))\n",
    "\n",
    "for i in range(1,11):\n",
    "    print(\"{} x {} = {}\".format(n,i,n*i))\n",
    "    "
   ]
  },
  {
   "cell_type": "code",
   "execution_count": 32,
   "id": "a8b66cb3",
   "metadata": {},
   "outputs": [
    {
     "name": "stdout",
     "output_type": "stream",
     "text": [
      "Enter a number : 9\n",
      "[0, 1, 1, 2, 3, 5, 8, 13, 21]\n"
     ]
    }
   ],
   "source": [
    "#3.\tWrite a Python Program to Print the Fibonacci sequence?\n",
    "\n",
    "n = int(input(\"Enter a number : \"))\n",
    "\n",
    "if n <= 0:\n",
    "    print(\"No Series\")\n",
    "elif n==1:\n",
    "    print(\"[0]\")\n",
    "else:\n",
    "    value = [0,1]\n",
    "\n",
    "    for i in range(2,n):\n",
    "        value.append(value[i-1]+value[i-2])\n",
    "\n",
    "    print(value)"
   ]
  },
  {
   "cell_type": "code",
   "execution_count": 41,
   "id": "25ceb959",
   "metadata": {},
   "outputs": [
    {
     "name": "stdout",
     "output_type": "stream",
     "text": [
      "Enter a number : 153\n",
      "153 is an Armstrong number\n"
     ]
    }
   ],
   "source": [
    "#4.\tWrite a Python Program to Check Armstrong Number?\n",
    "\n",
    "n = int(input(\"Enter a number : \"))\n",
    "\n",
    "temp = n\n",
    "sum = int(0)\n",
    "while(temp>0):\n",
    "    digit = int(temp%10)\n",
    "    sum+=(digit*digit*digit)\n",
    "    temp/=10\n",
    "\n",
    "if sum == n :\n",
    "    print(\"{} is an Armstrong number\".format(n))\n",
    "else:\n",
    "    print(\"{} is not an Armstrong number\".format(n))"
   ]
  },
  {
   "cell_type": "code",
   "execution_count": 45,
   "id": "ddb4c9d1",
   "metadata": {},
   "outputs": [
    {
     "name": "stdout",
     "output_type": "stream",
     "text": [
      "Enter range : 100 500\n",
      "Armstrong number between 100 and 500 : [153, 370, 371, 407]\n"
     ]
    }
   ],
   "source": [
    "#5.\tWrite a Python Program to Find Armstrong Number in an Interval?\n",
    "\n",
    "a, b = [int (a) for a in input(\"Enter range : \").split()] \n",
    "\n",
    "armstrong = []\n",
    "for i in range (a,b+1):\n",
    "    temp = i\n",
    "    sum = int(0)\n",
    "    while(temp>0):\n",
    "        digit = int(temp%10)\n",
    "        sum+=(digit*digit*digit)\n",
    "        temp/=10\n",
    "    if sum == i:\n",
    "        armstrong.append(i)\n",
    "print(\"Armstrong number between {} and {} : {}\".format(a,b,armstrong))\n"
   ]
  },
  {
   "cell_type": "code",
   "execution_count": 48,
   "id": "d03d25d3",
   "metadata": {},
   "outputs": [
    {
     "name": "stdout",
     "output_type": "stream",
     "text": [
      "Enter a number : 10\n",
      "Sum of 10 natural numbers is : 55\n"
     ]
    }
   ],
   "source": [
    "#6.\tWrite a Python Program to Find the Sum of Natural Numbers?\n",
    "\n",
    "n = int(input(\"Enter a number : \"))\n",
    "sum = int(n*(n+1)/2)\n",
    "\n",
    "print(\"Sum of {} natural numbers is : {}\".format(n,sum))"
   ]
  },
  {
   "cell_type": "code",
   "execution_count": null,
   "id": "2db10ba6",
   "metadata": {},
   "outputs": [],
   "source": []
  }
 ],
 "metadata": {
  "kernelspec": {
   "display_name": "Python 3 (ipykernel)",
   "language": "python",
   "name": "python3"
  },
  "language_info": {
   "codemirror_mode": {
    "name": "ipython",
    "version": 3
   },
   "file_extension": ".py",
   "mimetype": "text/x-python",
   "name": "python",
   "nbconvert_exporter": "python",
   "pygments_lexer": "ipython3",
   "version": "3.9.12"
  }
 },
 "nbformat": 4,
 "nbformat_minor": 5
}
