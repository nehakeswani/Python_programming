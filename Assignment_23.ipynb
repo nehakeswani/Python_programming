{
 "cells": [
  {
   "cell_type": "code",
   "execution_count": null,
   "id": "12ee6c75",
   "metadata": {},
   "outputs": [],
   "source": [
    "'''Question 1\n",
    "Create a function that takes a number as an argument and returns True or False depending\n",
    "on whether the number is symmetrical or not. A number is symmetrical when it is the same as\n",
    "its reverse.'''"
   ]
  },
  {
   "cell_type": "code",
   "execution_count": 6,
   "id": "51cdceb8",
   "metadata": {},
   "outputs": [
    {
     "name": "stdout",
     "output_type": "stream",
     "text": [
      "Enter number : 4554\n",
      "True\n"
     ]
    }
   ],
   "source": [
    "def is_symmetrical(num):\n",
    "    num1 = num[::-1]\n",
    "    if(num == num1):\n",
    "        return True\n",
    "    else:\n",
    "        return False\n",
    "\n",
    "num = input(\"Enter number : \")\n",
    "print(is_symmetrical(num))"
   ]
  },
  {
   "cell_type": "code",
   "execution_count": null,
   "id": "58d6dfa6",
   "metadata": {},
   "outputs": [],
   "source": [
    "'''Question 2\n",
    "Given a string of numbers separated by a comma and space, return the product of the\n",
    "numbers.'''"
   ]
  },
  {
   "cell_type": "code",
   "execution_count": 12,
   "id": "0075a386",
   "metadata": {},
   "outputs": [
    {
     "name": "stdout",
     "output_type": "stream",
     "text": [
      "Enter numbers : 2, 3, 4\n",
      "24\n"
     ]
    }
   ],
   "source": [
    "import numpy as np\n",
    "def multiply_nums(string):\n",
    "    lst = [int(x) for x in string.split(\", \")]\n",
    "    return np.prod(lst)\n",
    "\n",
    "string = input(\"Enter numbers : \")\n",
    "print(multiply_nums(string))"
   ]
  },
  {
   "cell_type": "code",
   "execution_count": null,
   "id": "b68092eb",
   "metadata": {},
   "outputs": [],
   "source": [
    "'''Question 3\n",
    "Create a function that squares every digit of a number.'''"
   ]
  },
  {
   "cell_type": "code",
   "execution_count": 8,
   "id": "b49f02d2",
   "metadata": {},
   "outputs": [
    {
     "name": "stdout",
     "output_type": "stream",
     "text": [
      "Enter a number : 4455\n",
      "16162525\n"
     ]
    }
   ],
   "source": [
    "def square_digits(num):\n",
    "    num = str(num)\n",
    "    lst = [int(i)*int(i) for i in num]\n",
    "    return (int(\"\".join(map(str,lst))))\n",
    "\n",
    "num = int(input(\"Enter a number : \"))\n",
    "print(square_digits(num))"
   ]
  },
  {
   "cell_type": "code",
   "execution_count": null,
   "id": "8680cbb7",
   "metadata": {},
   "outputs": [],
   "source": [
    "'''Question 4\n",
    "Create a function that sorts a list and removes all duplicate items from it.'''"
   ]
  },
  {
   "cell_type": "code",
   "execution_count": 10,
   "id": "3908ab4f",
   "metadata": {},
   "outputs": [
    {
     "name": "stdout",
     "output_type": "stream",
     "text": [
      "Enter list elements : 3 4 2 1 1 5 6\n",
      "[1, 2, 3, 4, 5, 6]\n"
     ]
    }
   ],
   "source": [
    "def setify(lst):\n",
    "    set_lst = set(lst)\n",
    "    return(list(set_lst))\n",
    "\n",
    "lst = [int(i) for i in input(\"Enter list elements : \").split(\" \")]\n",
    "print(setify(lst))"
   ]
  },
  {
   "cell_type": "code",
   "execution_count": null,
   "id": "63b92253",
   "metadata": {},
   "outputs": [],
   "source": [
    "'''Question 5\n",
    "Create a function that returns the mean of all digits.'''"
   ]
  },
  {
   "cell_type": "code",
   "execution_count": 14,
   "id": "8dbd8257",
   "metadata": {},
   "outputs": [
    {
     "name": "stdout",
     "output_type": "stream",
     "text": [
      "Enter number : 12345\n",
      "3\n"
     ]
    }
   ],
   "source": [
    "import numpy as np\n",
    "\n",
    "def mean(num):\n",
    "    num = str(num)\n",
    "    lst = [int(i) for i in num]\n",
    "    mean  = np.sum(lst)/len(lst)\n",
    "    return int(mean)\n",
    "\n",
    "num  = int(input(\"Enter number : \"))\n",
    "print(mean(num))"
   ]
  },
  {
   "cell_type": "code",
   "execution_count": null,
   "id": "59f84d8b",
   "metadata": {},
   "outputs": [],
   "source": []
  }
 ],
 "metadata": {
  "kernelspec": {
   "display_name": "Python 3 (ipykernel)",
   "language": "python",
   "name": "python3"
  },
  "language_info": {
   "codemirror_mode": {
    "name": "ipython",
    "version": 3
   },
   "file_extension": ".py",
   "mimetype": "text/x-python",
   "name": "python",
   "nbconvert_exporter": "python",
   "pygments_lexer": "ipython3",
   "version": "3.9.12"
  }
 },
 "nbformat": 4,
 "nbformat_minor": 5
}
