{
 "cells": [
  {
   "cell_type": "code",
   "execution_count": null,
   "id": "c35ef1c6",
   "metadata": {},
   "outputs": [],
   "source": [
    "'''Question 1\n",
    "Create a function that takes a list of non-negative integers and strings and return a new list\n",
    "without the strings.'''"
   ]
  },
  {
   "cell_type": "code",
   "execution_count": 13,
   "id": "55193852",
   "metadata": {},
   "outputs": [
    {
     "name": "stdout",
     "output_type": "stream",
     "text": [
      "Enter number of element of list : 6\n",
      "Enter the element 1 of list 1\n",
      "Enter the element 2 of list 2\n",
      "Enter the element 3 of list aasf\n",
      "Enter the element 4 of list \"2\"\n",
      "Enter the element 5 of list \"123\"\n",
      "Enter the element 6 of list 123\n",
      "[1, 2, 123]\n"
     ]
    }
   ],
   "source": [
    "def filter_list(mix_list):\n",
    "    result = [x for x in mix_list if type(x)==int]\n",
    "    return result\n",
    "\n",
    "a = int(input(\"Enter number of element of list : \"))\n",
    "mix_list = []\n",
    "for i in range(a):\n",
    "    temp = input(\"Enter the element {} of list \".format(i+1))\n",
    "    try:\n",
    "        mix_list.append(int(temp))\n",
    "    except ValueError:\n",
    "        mix_list.append(temp)\n",
    "print(filter_list(mix_list))\n",
    "\n",
    "    "
   ]
  },
  {
   "cell_type": "code",
   "execution_count": null,
   "id": "4b4cb3aa",
   "metadata": {},
   "outputs": [],
   "source": [
    "'''Question 2\n",
    "The \"Reverser\" takes a string as input and returns that string in reverse order, with the\n",
    "opposite case.'''"
   ]
  },
  {
   "cell_type": "code",
   "execution_count": 18,
   "id": "7564ae88",
   "metadata": {},
   "outputs": [
    {
     "name": "stdout",
     "output_type": "stream",
     "text": [
      "Enter the string : Radar\n",
      "RADAr\n"
     ]
    }
   ],
   "source": [
    "def Reverser(string):\n",
    "    str1 = string[::-1]\n",
    "    str2 = [i.upper() if i.islower() else i.lower() for i in str1]\n",
    "    return(\"\".join(str2))\n",
    "    \n",
    "string = input(\"Enter the string : \")\n",
    "print(Reverser(string))"
   ]
  },
  {
   "cell_type": "code",
   "execution_count": null,
   "id": "cad41e68",
   "metadata": {},
   "outputs": [],
   "source": [
    "'''Question 3\n",
    "With Python 3, you can assign variables from lists in a much more succinct way. Create\n",
    "variables first, middle and last from the given list using destructuring assignment\n",
    "(check the Resources tab for some examples), where:'''"
   ]
  },
  {
   "cell_type": "code",
   "execution_count": 23,
   "id": "1f38c54c",
   "metadata": {},
   "outputs": [
    {
     "name": "stdout",
     "output_type": "stream",
     "text": [
      "Enter list : 1 2 3 4 5 6\n",
      "1 [2, 3, 4, 5] 6\n"
     ]
    }
   ],
   "source": [
    "lst = [int(x) for x in input(\"Enter list : \").split(\" \")]\n",
    "first, *middle, last = lst\n",
    "print(first,middle,last)"
   ]
  },
  {
   "cell_type": "code",
   "execution_count": null,
   "id": "0fc0f315",
   "metadata": {},
   "outputs": [],
   "source": [
    "'''Question 4\n",
    "Write a function that calculates the factorial of a number recursively.'''"
   ]
  },
  {
   "cell_type": "code",
   "execution_count": 24,
   "id": "ab2418d1",
   "metadata": {},
   "outputs": [
    {
     "name": "stdout",
     "output_type": "stream",
     "text": [
      "Enter the number : 5\n",
      "120\n"
     ]
    }
   ],
   "source": [
    "import math\n",
    "\n",
    "def Fact(num):\n",
    "    return math.factorial(num)\n",
    "\n",
    "num = int(input(\"Enter the number : \"))\n",
    "print(Fact(num))"
   ]
  },
  {
   "cell_type": "code",
   "execution_count": null,
   "id": "45b74577",
   "metadata": {},
   "outputs": [],
   "source": [
    "'''Question 5\n",
    "Write a function that moves all elements of one type to the end of the list.'''"
   ]
  },
  {
   "cell_type": "code",
   "execution_count": 33,
   "id": "2b0b1d07",
   "metadata": {},
   "outputs": [
    {
     "name": "stdout",
     "output_type": "stream",
     "text": [
      "Enter element : a a a b a\n",
      "Enter element to be moved : a\n",
      "['b', 'a', 'a', 'a', 'a']\n"
     ]
    }
   ],
   "source": [
    "def move_to_end(lst,element):\n",
    "    lst1 = []\n",
    "    count = 0\n",
    "    for i in lst:\n",
    "        if i == element:\n",
    "            count +=1\n",
    "            lst1.append(i)\n",
    "    lst = [x for x in lst if x!= element]\n",
    "    lst.extend(lst1)\n",
    "    return lst\n",
    "            \n",
    "lst = [x for x in input(\"Enter element : \").split(\" \")]\n",
    "element = input(\"Enter element to be moved : \")\n",
    "print(move_to_end(lst,element))        "
   ]
  },
  {
   "cell_type": "code",
   "execution_count": null,
   "id": "359a86e8",
   "metadata": {},
   "outputs": [],
   "source": []
  }
 ],
 "metadata": {
  "kernelspec": {
   "display_name": "Python 3 (ipykernel)",
   "language": "python",
   "name": "python3"
  },
  "language_info": {
   "codemirror_mode": {
    "name": "ipython",
    "version": 3
   },
   "file_extension": ".py",
   "mimetype": "text/x-python",
   "name": "python",
   "nbconvert_exporter": "python",
   "pygments_lexer": "ipython3",
   "version": "3.9.12"
  }
 },
 "nbformat": 4,
 "nbformat_minor": 5
}
